{
  "nbformat": 4,
  "nbformat_minor": 0,
  "metadata": {
    "colab": {
      "provenance": [],
      "gpuType": "T4"
    },
    "kernelspec": {
      "name": "python3",
      "display_name": "Python 3"
    },
    "language_info": {
      "name": "python"
    },
    "accelerator": "GPU"
  },
  "cells": [
    {
      "cell_type": "code",
      "source": [
        "!pip install transformers sentencepiece gtts SpeechRecognition pydub"
      ],
      "metadata": {
        "colab": {
          "base_uri": "https://localhost:8080/"
        },
        "id": "sXwSrErljV1O",
        "outputId": "38770414-bed4-407e-d0b7-babbcf42b744"
      },
      "execution_count": null,
      "outputs": [
        {
          "output_type": "stream",
          "name": "stdout",
          "text": [
            "Requirement already satisfied: transformers in /usr/local/lib/python3.11/dist-packages (4.51.3)\n",
            "Requirement already satisfied: sentencepiece in /usr/local/lib/python3.11/dist-packages (0.2.0)\n",
            "Collecting gtts\n",
            "  Downloading gTTS-2.5.4-py3-none-any.whl.metadata (4.1 kB)\n",
            "Collecting SpeechRecognition\n",
            "  Downloading speechrecognition-3.14.3-py3-none-any.whl.metadata (30 kB)\n",
            "Collecting pydub\n",
            "  Downloading pydub-0.25.1-py2.py3-none-any.whl.metadata (1.4 kB)\n",
            "Requirement already satisfied: filelock in /usr/local/lib/python3.11/dist-packages (from transformers) (3.18.0)\n",
            "Requirement already satisfied: huggingface-hub<1.0,>=0.30.0 in /usr/local/lib/python3.11/dist-packages (from transformers) (0.31.2)\n",
            "Requirement already satisfied: numpy>=1.17 in /usr/local/lib/python3.11/dist-packages (from transformers) (1.26.4)\n",
            "Requirement already satisfied: packaging>=20.0 in /usr/local/lib/python3.11/dist-packages (from transformers) (24.2)\n",
            "Requirement already satisfied: pyyaml>=5.1 in /usr/local/lib/python3.11/dist-packages (from transformers) (6.0.2)\n",
            "Requirement already satisfied: regex!=2019.12.17 in /usr/local/lib/python3.11/dist-packages (from transformers) (2024.11.6)\n",
            "Requirement already satisfied: requests in /usr/local/lib/python3.11/dist-packages (from transformers) (2.32.3)\n",
            "Requirement already satisfied: tokenizers<0.22,>=0.21 in /usr/local/lib/python3.11/dist-packages (from transformers) (0.21.1)\n",
            "Requirement already satisfied: safetensors>=0.4.3 in /usr/local/lib/python3.11/dist-packages (from transformers) (0.5.3)\n",
            "Requirement already satisfied: tqdm>=4.27 in /usr/local/lib/python3.11/dist-packages (from transformers) (4.67.1)\n",
            "Requirement already satisfied: fsspec>=2023.5.0 in /usr/local/lib/python3.11/dist-packages (from huggingface-hub<1.0,>=0.30.0->transformers) (2025.3.2)\n",
            "Requirement already satisfied: typing-extensions>=3.7.4.3 in /usr/local/lib/python3.11/dist-packages (from huggingface-hub<1.0,>=0.30.0->transformers) (4.13.2)\n",
            "Collecting click<8.2,>=7.1 (from gtts)\n",
            "  Downloading click-8.1.8-py3-none-any.whl.metadata (2.3 kB)\n",
            "Requirement already satisfied: charset-normalizer<4,>=2 in /usr/local/lib/python3.11/dist-packages (from requests->transformers) (3.4.2)\n",
            "Requirement already satisfied: idna<4,>=2.5 in /usr/local/lib/python3.11/dist-packages (from requests->transformers) (3.10)\n",
            "Requirement already satisfied: urllib3<3,>=1.21.1 in /usr/local/lib/python3.11/dist-packages (from requests->transformers) (2.4.0)\n",
            "Requirement already satisfied: certifi>=2017.4.17 in /usr/local/lib/python3.11/dist-packages (from requests->transformers) (2025.4.26)\n",
            "Downloading gTTS-2.5.4-py3-none-any.whl (29 kB)\n",
            "Downloading click-8.1.8-py3-none-any.whl (98 kB)\n",
            "Downloading speechrecognition-3.14.3-py3-none-any.whl (32.9 MB)\n",
            "\u001b[2K   \u001b[90m━━━━━━━━━━━━━━━━━━━━━━━━━━━━━━━━━━━━━━━━\u001b[0m \u001b[32m32.9/32.9 MB\u001b[0m \u001b[31m147.4 MB/s\u001b[0m eta \u001b[36m0:00:00\u001b[0m\n",
            "\u001b[?25hDownloading pydub-0.25.1-py2.py3-none-any.whl (32 kB)\n",
            "Installing collected packages: pydub, SpeechRecognition, click, gtts\n",
            "\u001b[2K  Attempting uninstall: click\n",
            "\u001b[2K    Found existing installation: click 8.2.0\n",
            "\u001b[2K    Uninstalling click-8.2.0:\n",
            "\u001b[2K      Successfully uninstalled click-8.2.0\n",
            "\u001b[2K   \u001b[90m━━━━━━━━━━━━━━━━━━━━━━━━━━━━━━━━━━━━━━━━\u001b[0m \u001b[32m4/4\u001b[0m [gtts]\n",
            "\u001b[1A\u001b[2K\u001b[31mERROR: pip's dependency resolver does not currently take into account all the packages that are installed. This behaviour is the source of the following dependency conflicts.\n",
            "dask-cuda 25.2.0 requires numba<0.61.0a0,>=0.59.1, but you have numba 0.61.2 which is incompatible.\n",
            "dask-cudf-cu12 25.2.2 requires pandas<2.2.4dev0,>=2.0, but you have pandas 1.5.3 which is incompatible.\n",
            "distributed-ucxx-cu12 0.42.0 requires numba<0.61.0a0,>=0.59.1, but you have numba 0.61.2 which is incompatible.\u001b[0m\u001b[31m\n",
            "\u001b[0mSuccessfully installed SpeechRecognition-3.14.3 click-8.1.8 gtts-2.5.4 pydub-0.25.1\n"
          ]
        }
      ]
    },
    {
      "cell_type": "code",
      "source": [
        "!pip install pyaudio"
      ],
      "metadata": {
        "colab": {
          "base_uri": "https://localhost:8080/"
        },
        "collapsed": true,
        "id": "GXSiY3POj4rP",
        "outputId": "3fbe8659-4bbd-4d42-d23e-f42015121676"
      },
      "execution_count": null,
      "outputs": [
        {
          "output_type": "stream",
          "name": "stdout",
          "text": [
            "Collecting pyaudio\n",
            "  Downloading PyAudio-0.2.14.tar.gz (47 kB)\n",
            "  Installing build dependencies ... \u001b[?25l\u001b[?25hdone\n",
            "  Getting requirements to build wheel ... \u001b[?25l\u001b[?25hdone\n",
            "  Preparing metadata (pyproject.toml) ... \u001b[?25l\u001b[?25hdone\n",
            "Building wheels for collected packages: pyaudio\n",
            "  \u001b[1;31merror\u001b[0m: \u001b[1msubprocess-exited-with-error\u001b[0m\n",
            "  \n",
            "  \u001b[31m×\u001b[0m \u001b[32mBuilding wheel for pyaudio \u001b[0m\u001b[1;32m(\u001b[0m\u001b[32mpyproject.toml\u001b[0m\u001b[1;32m)\u001b[0m did not run successfully.\n",
            "  \u001b[31m│\u001b[0m exit code: \u001b[1;36m1\u001b[0m\n",
            "  \u001b[31m╰─>\u001b[0m See above for output.\n",
            "  \n",
            "  \u001b[1;35mnote\u001b[0m: This error originates from a subprocess, and is likely not a problem with pip.\n",
            "  Building wheel for pyaudio (pyproject.toml) ... \u001b[?25l\u001b[?25herror\n",
            "\u001b[31m  ERROR: Failed building wheel for pyaudio\u001b[0m\u001b[31m\n",
            "\u001b[0mFailed to build pyaudio\n",
            "\u001b[31mERROR: Failed to build installable wheels for some pyproject.toml based projects (pyaudio)\u001b[0m\u001b[31m\n",
            "\u001b[0m"
          ]
        }
      ]
    },
    {
      "source": [
        "!apt-get update && apt-get install -y portaudio19-dev"
      ],
      "cell_type": "code",
      "metadata": {
        "colab": {
          "base_uri": "https://localhost:8080/"
        },
        "collapsed": true,
        "id": "nLnEc9LqkCG4",
        "outputId": "3317413d-fe8d-43ca-cbb1-6521d39a320e"
      },
      "execution_count": null,
      "outputs": [
        {
          "output_type": "stream",
          "name": "stdout",
          "text": [
            "\r0% [Working]\r            \rHit:1 https://cloud.r-project.org/bin/linux/ubuntu jammy-cran40/ InRelease\n",
            "Hit:2 https://developer.download.nvidia.com/compute/cuda/repos/ubuntu2204/x86_64  InRelease\n",
            "Hit:3 http://archive.ubuntu.com/ubuntu jammy InRelease\n",
            "Get:4 http://security.ubuntu.com/ubuntu jammy-security InRelease [129 kB]\n",
            "Hit:5 https://r2u.stat.illinois.edu/ubuntu jammy InRelease\n",
            "Get:6 http://archive.ubuntu.com/ubuntu jammy-updates InRelease [128 kB]\n",
            "Hit:7 https://ppa.launchpadcontent.net/deadsnakes/ppa/ubuntu jammy InRelease\n",
            "Hit:8 https://ppa.launchpadcontent.net/graphics-drivers/ppa/ubuntu jammy InRelease\n",
            "Get:9 http://archive.ubuntu.com/ubuntu jammy-backports InRelease [127 kB]\n",
            "Hit:10 https://ppa.launchpadcontent.net/ubuntugis/ppa/ubuntu jammy InRelease\n",
            "Fetched 384 kB in 1s (270 kB/s)\n",
            "Reading package lists... Done\n",
            "W: Skipping acquire of configured file 'main/source/Sources' as repository 'https://r2u.stat.illinois.edu/ubuntu jammy InRelease' does not seem to provide it (sources.list entry misspelt?)\n",
            "Reading package lists... Done\n",
            "Building dependency tree... Done\n",
            "Reading state information... Done\n",
            "The following additional packages will be installed:\n",
            "  libportaudio2 libportaudiocpp0\n",
            "Suggested packages:\n",
            "  portaudio19-doc\n",
            "The following NEW packages will be installed:\n",
            "  libportaudio2 libportaudiocpp0 portaudio19-dev\n",
            "0 upgraded, 3 newly installed, 0 to remove and 35 not upgraded.\n",
            "Need to get 188 kB of archives.\n",
            "After this operation, 927 kB of additional disk space will be used.\n",
            "Get:1 http://archive.ubuntu.com/ubuntu jammy/universe amd64 libportaudio2 amd64 19.6.0-1.1 [65.3 kB]\n",
            "Get:2 http://archive.ubuntu.com/ubuntu jammy/universe amd64 libportaudiocpp0 amd64 19.6.0-1.1 [16.1 kB]\n",
            "Get:3 http://archive.ubuntu.com/ubuntu jammy/universe amd64 portaudio19-dev amd64 19.6.0-1.1 [106 kB]\n",
            "Fetched 188 kB in 1s (199 kB/s)\n",
            "Selecting previously unselected package libportaudio2:amd64.\n",
            "(Reading database ... 126102 files and directories currently installed.)\n",
            "Preparing to unpack .../libportaudio2_19.6.0-1.1_amd64.deb ...\n",
            "Unpacking libportaudio2:amd64 (19.6.0-1.1) ...\n",
            "Selecting previously unselected package libportaudiocpp0:amd64.\n",
            "Preparing to unpack .../libportaudiocpp0_19.6.0-1.1_amd64.deb ...\n",
            "Unpacking libportaudiocpp0:amd64 (19.6.0-1.1) ...\n",
            "Selecting previously unselected package portaudio19-dev:amd64.\n",
            "Preparing to unpack .../portaudio19-dev_19.6.0-1.1_amd64.deb ...\n",
            "Unpacking portaudio19-dev:amd64 (19.6.0-1.1) ...\n",
            "Setting up libportaudio2:amd64 (19.6.0-1.1) ...\n",
            "Setting up libportaudiocpp0:amd64 (19.6.0-1.1) ...\n",
            "Setting up portaudio19-dev:amd64 (19.6.0-1.1) ...\n",
            "Processing triggers for libc-bin (2.35-0ubuntu3.8) ...\n",
            "/sbin/ldconfig.real: /usr/local/lib/libtbbmalloc.so.2 is not a symbolic link\n",
            "\n",
            "/sbin/ldconfig.real: /usr/local/lib/libtcm.so.1 is not a symbolic link\n",
            "\n",
            "/sbin/ldconfig.real: /usr/local/lib/libur_loader.so.0 is not a symbolic link\n",
            "\n",
            "/sbin/ldconfig.real: /usr/local/lib/libtbbbind_2_5.so.3 is not a symbolic link\n",
            "\n",
            "/sbin/ldconfig.real: /usr/local/lib/libumf.so.0 is not a symbolic link\n",
            "\n",
            "/sbin/ldconfig.real: /usr/local/lib/libtbbmalloc_proxy.so.2 is not a symbolic link\n",
            "\n",
            "/sbin/ldconfig.real: /usr/local/lib/libtbbbind_2_0.so.3 is not a symbolic link\n",
            "\n",
            "/sbin/ldconfig.real: /usr/local/lib/libhwloc.so.15 is not a symbolic link\n",
            "\n",
            "/sbin/ldconfig.real: /usr/local/lib/libur_adapter_level_zero.so.0 is not a symbolic link\n",
            "\n",
            "/sbin/ldconfig.real: /usr/local/lib/libtbb.so.12 is not a symbolic link\n",
            "\n",
            "/sbin/ldconfig.real: /usr/local/lib/libtbbbind.so.3 is not a symbolic link\n",
            "\n",
            "/sbin/ldconfig.real: /usr/local/lib/libur_adapter_opencl.so.0 is not a symbolic link\n",
            "\n",
            "/sbin/ldconfig.real: /usr/local/lib/libtcm_debug.so.1 is not a symbolic link\n",
            "\n"
          ]
        }
      ]
    },
    {
      "source": [
        "!pip install transformers sentencepiece gtts SpeechRecognition pydub\n",
        "!apt-get update && apt-get install -y portaudio19-dev\n",
        "!pip install pyaudio"
      ],
      "cell_type": "code",
      "metadata": {
        "colab": {
          "base_uri": "https://localhost:8080/"
        },
        "collapsed": true,
        "id": "4uPZwvWKkCdH",
        "outputId": "8fb8c5a9-0dd3-410e-ebac-5081978be87c"
      },
      "execution_count": null,
      "outputs": [
        {
          "output_type": "stream",
          "name": "stdout",
          "text": [
            "Requirement already satisfied: transformers in /usr/local/lib/python3.11/dist-packages (4.51.3)\n",
            "Requirement already satisfied: sentencepiece in /usr/local/lib/python3.11/dist-packages (0.2.0)\n",
            "Requirement already satisfied: gtts in /usr/local/lib/python3.11/dist-packages (2.5.4)\n",
            "Requirement already satisfied: SpeechRecognition in /usr/local/lib/python3.11/dist-packages (3.14.3)\n",
            "Requirement already satisfied: pydub in /usr/local/lib/python3.11/dist-packages (0.25.1)\n",
            "Requirement already satisfied: filelock in /usr/local/lib/python3.11/dist-packages (from transformers) (3.18.0)\n",
            "Requirement already satisfied: huggingface-hub<1.0,>=0.30.0 in /usr/local/lib/python3.11/dist-packages (from transformers) (0.31.2)\n",
            "Requirement already satisfied: numpy>=1.17 in /usr/local/lib/python3.11/dist-packages (from transformers) (1.26.4)\n",
            "Requirement already satisfied: packaging>=20.0 in /usr/local/lib/python3.11/dist-packages (from transformers) (24.2)\n",
            "Requirement already satisfied: pyyaml>=5.1 in /usr/local/lib/python3.11/dist-packages (from transformers) (6.0.2)\n",
            "Requirement already satisfied: regex!=2019.12.17 in /usr/local/lib/python3.11/dist-packages (from transformers) (2024.11.6)\n",
            "Requirement already satisfied: requests in /usr/local/lib/python3.11/dist-packages (from transformers) (2.32.3)\n",
            "Requirement already satisfied: tokenizers<0.22,>=0.21 in /usr/local/lib/python3.11/dist-packages (from transformers) (0.21.1)\n",
            "Requirement already satisfied: safetensors>=0.4.3 in /usr/local/lib/python3.11/dist-packages (from transformers) (0.5.3)\n",
            "Requirement already satisfied: tqdm>=4.27 in /usr/local/lib/python3.11/dist-packages (from transformers) (4.67.1)\n",
            "Requirement already satisfied: fsspec>=2023.5.0 in /usr/local/lib/python3.11/dist-packages (from huggingface-hub<1.0,>=0.30.0->transformers) (2025.3.2)\n",
            "Requirement already satisfied: typing-extensions>=3.7.4.3 in /usr/local/lib/python3.11/dist-packages (from huggingface-hub<1.0,>=0.30.0->transformers) (4.13.2)\n",
            "Requirement already satisfied: click<8.2,>=7.1 in /usr/local/lib/python3.11/dist-packages (from gtts) (8.1.8)\n",
            "Requirement already satisfied: charset-normalizer<4,>=2 in /usr/local/lib/python3.11/dist-packages (from requests->transformers) (3.4.2)\n",
            "Requirement already satisfied: idna<4,>=2.5 in /usr/local/lib/python3.11/dist-packages (from requests->transformers) (3.10)\n",
            "Requirement already satisfied: urllib3<3,>=1.21.1 in /usr/local/lib/python3.11/dist-packages (from requests->transformers) (2.4.0)\n",
            "Requirement already satisfied: certifi>=2017.4.17 in /usr/local/lib/python3.11/dist-packages (from requests->transformers) (2025.4.26)\n",
            "Hit:1 https://developer.download.nvidia.com/compute/cuda/repos/ubuntu2204/x86_64  InRelease\n",
            "Hit:2 https://cloud.r-project.org/bin/linux/ubuntu jammy-cran40/ InRelease\n",
            "Hit:3 http://security.ubuntu.com/ubuntu jammy-security InRelease\n",
            "Hit:4 http://archive.ubuntu.com/ubuntu jammy InRelease\n",
            "Hit:5 https://r2u.stat.illinois.edu/ubuntu jammy InRelease\n",
            "Hit:6 http://archive.ubuntu.com/ubuntu jammy-updates InRelease\n",
            "Hit:7 http://archive.ubuntu.com/ubuntu jammy-backports InRelease\n",
            "Hit:8 https://ppa.launchpadcontent.net/deadsnakes/ppa/ubuntu jammy InRelease\n",
            "Hit:9 https://ppa.launchpadcontent.net/graphics-drivers/ppa/ubuntu jammy InRelease\n",
            "Hit:10 https://ppa.launchpadcontent.net/ubuntugis/ppa/ubuntu jammy InRelease\n",
            "Reading package lists... Done\n",
            "W: Skipping acquire of configured file 'main/source/Sources' as repository 'https://r2u.stat.illinois.edu/ubuntu jammy InRelease' does not seem to provide it (sources.list entry misspelt?)\n",
            "Reading package lists... Done\n",
            "Building dependency tree... Done\n",
            "Reading state information... Done\n",
            "portaudio19-dev is already the newest version (19.6.0-1.1).\n",
            "0 upgraded, 0 newly installed, 0 to remove and 35 not upgraded.\n",
            "Collecting pyaudio\n",
            "  Using cached PyAudio-0.2.14.tar.gz (47 kB)\n",
            "  Installing build dependencies ... \u001b[?25l\u001b[?25hdone\n",
            "  Getting requirements to build wheel ... \u001b[?25l\u001b[?25hdone\n",
            "  Preparing metadata (pyproject.toml) ... \u001b[?25l\u001b[?25hdone\n",
            "Building wheels for collected packages: pyaudio\n",
            "  Building wheel for pyaudio (pyproject.toml) ... \u001b[?25l\u001b[?25hdone\n",
            "  Created wheel for pyaudio: filename=pyaudio-0.2.14-cp311-cp311-linux_x86_64.whl size=67425 sha256=5575b6f75c5295bc26feb064efdf3f2ff6f89208ad2411aec936914486162cfe\n",
            "  Stored in directory: /root/.cache/pip/wheels/80/b1/c1/67e4ef443de2665d86031d4760508094eab5de37d5d64d9c27\n",
            "Successfully built pyaudio\n",
            "Installing collected packages: pyaudio\n",
            "Successfully installed pyaudio-0.2.14\n"
          ]
        }
      ]
    },
    {
      "cell_type": "code",
      "source": [
        "!pip install transformers sentencepiece gtts SpeechRecognition pydub\n",
        "!pip install pyaudio"
      ],
      "metadata": {
        "colab": {
          "base_uri": "https://localhost:8080/"
        },
        "collapsed": true,
        "id": "M1YxGOaej7T2",
        "outputId": "e5766c0b-13cb-422d-a292-e05c98f6a1d0"
      },
      "execution_count": null,
      "outputs": [
        {
          "output_type": "stream",
          "name": "stdout",
          "text": [
            "Requirement already satisfied: transformers in /usr/local/lib/python3.11/dist-packages (4.51.3)\n",
            "Requirement already satisfied: sentencepiece in /usr/local/lib/python3.11/dist-packages (0.2.0)\n",
            "Requirement already satisfied: gtts in /usr/local/lib/python3.11/dist-packages (2.5.4)\n",
            "Requirement already satisfied: SpeechRecognition in /usr/local/lib/python3.11/dist-packages (3.14.3)\n",
            "Requirement already satisfied: pydub in /usr/local/lib/python3.11/dist-packages (0.25.1)\n",
            "Requirement already satisfied: filelock in /usr/local/lib/python3.11/dist-packages (from transformers) (3.18.0)\n",
            "Requirement already satisfied: huggingface-hub<1.0,>=0.30.0 in /usr/local/lib/python3.11/dist-packages (from transformers) (0.31.2)\n",
            "Requirement already satisfied: numpy>=1.17 in /usr/local/lib/python3.11/dist-packages (from transformers) (1.26.4)\n",
            "Requirement already satisfied: packaging>=20.0 in /usr/local/lib/python3.11/dist-packages (from transformers) (24.2)\n",
            "Requirement already satisfied: pyyaml>=5.1 in /usr/local/lib/python3.11/dist-packages (from transformers) (6.0.2)\n",
            "Requirement already satisfied: regex!=2019.12.17 in /usr/local/lib/python3.11/dist-packages (from transformers) (2024.11.6)\n",
            "Requirement already satisfied: requests in /usr/local/lib/python3.11/dist-packages (from transformers) (2.32.3)\n",
            "Requirement already satisfied: tokenizers<0.22,>=0.21 in /usr/local/lib/python3.11/dist-packages (from transformers) (0.21.1)\n",
            "Requirement already satisfied: safetensors>=0.4.3 in /usr/local/lib/python3.11/dist-packages (from transformers) (0.5.3)\n",
            "Requirement already satisfied: tqdm>=4.27 in /usr/local/lib/python3.11/dist-packages (from transformers) (4.67.1)\n",
            "Requirement already satisfied: fsspec>=2023.5.0 in /usr/local/lib/python3.11/dist-packages (from huggingface-hub<1.0,>=0.30.0->transformers) (2025.3.2)\n",
            "Requirement already satisfied: typing-extensions>=3.7.4.3 in /usr/local/lib/python3.11/dist-packages (from huggingface-hub<1.0,>=0.30.0->transformers) (4.13.2)\n",
            "Requirement already satisfied: click<8.2,>=7.1 in /usr/local/lib/python3.11/dist-packages (from gtts) (8.1.8)\n",
            "Requirement already satisfied: charset-normalizer<4,>=2 in /usr/local/lib/python3.11/dist-packages (from requests->transformers) (3.4.2)\n",
            "Requirement already satisfied: idna<4,>=2.5 in /usr/local/lib/python3.11/dist-packages (from requests->transformers) (3.10)\n",
            "Requirement already satisfied: urllib3<3,>=1.21.1 in /usr/local/lib/python3.11/dist-packages (from requests->transformers) (2.4.0)\n",
            "Requirement already satisfied: certifi>=2017.4.17 in /usr/local/lib/python3.11/dist-packages (from requests->transformers) (2025.4.26)\n",
            "Collecting pyaudio\n",
            "  Using cached PyAudio-0.2.14.tar.gz (47 kB)\n",
            "  Installing build dependencies ... \u001b[?25l\u001b[?25hdone\n",
            "  Getting requirements to build wheel ... \u001b[?25l\u001b[?25hdone\n",
            "  Preparing metadata (pyproject.toml) ... \u001b[?25l\u001b[?25hdone\n",
            "Building wheels for collected packages: pyaudio\n",
            "  \u001b[1;31merror\u001b[0m: \u001b[1msubprocess-exited-with-error\u001b[0m\n",
            "  \n",
            "  \u001b[31m×\u001b[0m \u001b[32mBuilding wheel for pyaudio \u001b[0m\u001b[1;32m(\u001b[0m\u001b[32mpyproject.toml\u001b[0m\u001b[1;32m)\u001b[0m did not run successfully.\n",
            "  \u001b[31m│\u001b[0m exit code: \u001b[1;36m1\u001b[0m\n",
            "  \u001b[31m╰─>\u001b[0m See above for output.\n",
            "  \n",
            "  \u001b[1;35mnote\u001b[0m: This error originates from a subprocess, and is likely not a problem with pip.\n",
            "  Building wheel for pyaudio (pyproject.toml) ... \u001b[?25l\u001b[?25herror\n",
            "\u001b[31m  ERROR: Failed building wheel for pyaudio\u001b[0m\u001b[31m\n",
            "\u001b[0mFailed to build pyaudio\n",
            "\u001b[31mERROR: Failed to build installable wheels for some pyproject.toml based projects (pyaudio)\u001b[0m\u001b[31m\n",
            "\u001b[0m"
          ]
        }
      ]
    },
    {
      "cell_type": "code",
      "source": [
        "!pip install sacremoses"
      ],
      "metadata": {
        "colab": {
          "base_uri": "https://localhost:8080/"
        },
        "collapsed": true,
        "id": "01JtM68XkX2P",
        "outputId": "e5c7dc1b-c107-4904-d5a7-ee12fe72bcf8"
      },
      "execution_count": null,
      "outputs": [
        {
          "output_type": "stream",
          "name": "stdout",
          "text": [
            "Collecting sacremoses\n",
            "  Downloading sacremoses-0.1.1-py3-none-any.whl.metadata (8.3 kB)\n",
            "Requirement already satisfied: regex in /usr/local/lib/python3.11/dist-packages (from sacremoses) (2024.11.6)\n",
            "Requirement already satisfied: click in /usr/local/lib/python3.11/dist-packages (from sacremoses) (8.1.8)\n",
            "Requirement already satisfied: joblib in /usr/local/lib/python3.11/dist-packages (from sacremoses) (1.5.0)\n",
            "Requirement already satisfied: tqdm in /usr/local/lib/python3.11/dist-packages (from sacremoses) (4.67.1)\n",
            "Downloading sacremoses-0.1.1-py3-none-any.whl (897 kB)\n",
            "\u001b[?25l   \u001b[90m━━━━━━━━━━━━━━━━━━━━━━━━━━━━━━━━━━━━━━━━\u001b[0m \u001b[32m0.0/897.5 kB\u001b[0m \u001b[31m?\u001b[0m eta \u001b[36m-:--:--\u001b[0m\r\u001b[2K   \u001b[90m━━━━━━━━━━━━━━━━━━━━━━━━━━━━━━━━━━━━━━━━\u001b[0m \u001b[32m897.5/897.5 kB\u001b[0m \u001b[31m25.8 MB/s\u001b[0m eta \u001b[36m0:00:00\u001b[0m\n",
            "\u001b[?25hInstalling collected packages: sacremoses\n",
            "Successfully installed sacremoses-0.1.1\n"
          ]
        }
      ]
    },
    {
      "cell_type": "code",
      "source": [
        "from gtts import gTTS\n",
        "from pydub import AudioSegment\n",
        "import speech_recognition as sr\n",
        "from transformers import MarianMTModel, MarianTokenizer\n",
        "from IPython.display import Audio, display\n",
        "import tempfile"
      ],
      "metadata": {
        "id": "WcrK6E4qpPZv"
      },
      "execution_count": 22,
      "outputs": []
    },
    {
      "cell_type": "code",
      "source": [
        "english_text = \"Good morning! How are you? Did you eat food? Hope you will have a nice day today.\""
      ],
      "metadata": {
        "id": "fLr3Oo3LpQ_A"
      },
      "execution_count": 23,
      "outputs": []
    },
    {
      "cell_type": "code",
      "source": [
        "mp3_path = \"english_sample.mp3\"\n",
        "tts = gTTS(english_text, lang=\"en\")\n",
        "tts.save(mp3_path)"
      ],
      "metadata": {
        "id": "uXhoCkP7pSbX"
      },
      "execution_count": 24,
      "outputs": []
    },
    {
      "cell_type": "code",
      "source": [
        "wav_path = \"english_sample.wav\"\n",
        "audio = AudioSegment.from_file(mp3_path, format=\"mp3\")\n",
        "audio.export(wav_path, format=\"wav\", codec=\"pcm_s16le\")\n",
        "print(f\"English speech WAV saved at {wav_path}\")"
      ],
      "metadata": {
        "colab": {
          "base_uri": "https://localhost:8080/"
        },
        "id": "C-QvZC3MpT6Q",
        "outputId": "d509b712-10b6-4aa9-fa66-d042c74ec6f0"
      },
      "execution_count": 25,
      "outputs": [
        {
          "output_type": "stream",
          "name": "stdout",
          "text": [
            "English speech WAV saved at english_sample.wav\n"
          ]
        }
      ]
    },
    {
      "cell_type": "code",
      "source": [
        "cwav_path = \"english_sample.wav\"\n",
        "audio = AudioSegment.from_file(mp3_path, format=\"mp3\")\n",
        "audio.export(wav_path, format=\"wav\", codec=\"pcm_s16le\")\n",
        "print(f\"English speech WAV saved at {wav_path}\")"
      ],
      "metadata": {
        "colab": {
          "base_uri": "https://localhost:8080/"
        },
        "id": "kcLxzshhpUdv",
        "outputId": "d25d9d2f-7795-4523-b7b0-34f504f6cffb"
      },
      "execution_count": null,
      "outputs": [
        {
          "output_type": "stream",
          "name": "stdout",
          "text": [
            "English speech WAV saved at english_sample.wav\n"
          ]
        }
      ]
    },
    {
      "cell_type": "code",
      "source": [
        "model_name = \"Helsinki-NLP/opus-mt-en-fr\"\n",
        "tokenizer = MarianTokenizer.from_pretrained(model_name)\n",
        "model = MarianMTModel.from_pretrained(model_name)"
      ],
      "metadata": {
        "id": "JLXvP02qpWMP"
      },
      "execution_count": null,
      "outputs": []
    },
    {
      "cell_type": "code",
      "source": [
        "def translate(text, tokenizer, model):\n",
        "    inputs = tokenizer(text, return_tensors=\"pt\", padding=True)\n",
        "    translated = model.generate(**inputs)\n",
        "    return tokenizer.decode(translated[0], skip_special_tokens=True)\n",
        "\n",
        "french_text = translate(recognized_english, tokenizer, model)\n",
        "print(\"Translated French text:\", french_text)"
      ],
      "metadata": {
        "colab": {
          "base_uri": "https://localhost:8080/"
        },
        "id": "8gfZOFjspX8X",
        "outputId": "cc6ec480-eb71-482a-9356-0796577e409f"
      },
      "execution_count": null,
      "outputs": [
        {
          "output_type": "stream",
          "name": "stdout",
          "text": [
            "Translated French text: Bonjour comment êtes-vous avez-vous mangé de la nourriture en espérant que vous aurez une belle journée aujourd'hui\n"
          ]
        }
      ]
    },
    {
      "cell_type": "code",
      "source": [
        "tts_french = gTTS(french_text, lang='fr')\n",
        "with tempfile.NamedTemporaryFile(delete=False, suffix=\".mp3\") as fp:\n",
        "    tts_french.save(fp.name)\n",
        "    print(\"Playing French audio...\")\n",
        "    display(Audio(fp.name, autoplay=True))\n"
      ],
      "metadata": {
        "colab": {
          "base_uri": "https://localhost:8080/",
          "height": 93
        },
        "id": "Loiq_1ShpjxX",
        "outputId": "a42a61cb-7b95-4ebb-ebf7-f1e43aa2fbbb"
      },
      "execution_count": null,
      "outputs": [
        {
          "output_type": "stream",
          "name": "stdout",
          "text": [
            "Playing French audio...\n"
          ]
        },
        {
          "output_type": "display_data",
          "data": {
            "text/plain": [
              "<IPython.lib.display.Audio object>"
            ],
            "text/html": [
              "\n",
              "                <audio  controls=\"controls\" autoplay=\"autoplay\">\n",
              "                    <source src=\"data:audio/mpeg;base64,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\" type=\"audio/mpeg\" />\n",
              "                    Your browser does not support the audio element.\n",
              "                </audio>\n",
              "              "
            ]
          },
          "metadata": {}
        }
      ]
    },
    {
      "cell_type": "code",
      "source": [
        "!pip install gradio gtts pydub SpeechRecognition transformers torch nltk jiwer matplotlib numpy pandas"
      ],
      "metadata": {
        "colab": {
          "base_uri": "https://localhost:8080/"
        },
        "collapsed": true,
        "id": "8iEDesq2DC19",
        "outputId": "6e1c996b-accd-45aa-f828-19201d7b441f"
      },
      "execution_count": 16,
      "outputs": [
        {
          "output_type": "stream",
          "name": "stdout",
          "text": [
            "Collecting gradio\n",
            "  Downloading gradio-5.29.1-py3-none-any.whl.metadata (16 kB)\n",
            "Requirement already satisfied: gtts in /usr/local/lib/python3.11/dist-packages (2.5.4)\n",
            "Requirement already satisfied: pydub in /usr/local/lib/python3.11/dist-packages (0.25.1)\n",
            "Requirement already satisfied: SpeechRecognition in /usr/local/lib/python3.11/dist-packages (3.14.3)\n",
            "Requirement already satisfied: transformers in /usr/local/lib/python3.11/dist-packages (4.51.3)\n",
            "Requirement already satisfied: torch in /usr/local/lib/python3.11/dist-packages (2.6.0+cu124)\n",
            "Requirement already satisfied: nltk in /usr/local/lib/python3.11/dist-packages (3.9.1)\n",
            "Requirement already satisfied: jiwer in /usr/local/lib/python3.11/dist-packages (3.1.0)\n",
            "Requirement already satisfied: matplotlib in /usr/local/lib/python3.11/dist-packages (3.10.0)\n",
            "Requirement already satisfied: numpy in /usr/local/lib/python3.11/dist-packages (2.0.2)\n",
            "Requirement already satisfied: pandas in /usr/local/lib/python3.11/dist-packages (2.2.2)\n",
            "Collecting aiofiles<25.0,>=22.0 (from gradio)\n",
            "  Downloading aiofiles-24.1.0-py3-none-any.whl.metadata (10 kB)\n",
            "Requirement already satisfied: anyio<5.0,>=3.0 in /usr/local/lib/python3.11/dist-packages (from gradio) (4.9.0)\n",
            "Collecting fastapi<1.0,>=0.115.2 (from gradio)\n",
            "  Downloading fastapi-0.115.12-py3-none-any.whl.metadata (27 kB)\n",
            "Collecting ffmpy (from gradio)\n",
            "  Downloading ffmpy-0.5.0-py3-none-any.whl.metadata (3.0 kB)\n",
            "Collecting gradio-client==1.10.1 (from gradio)\n",
            "  Downloading gradio_client-1.10.1-py3-none-any.whl.metadata (7.1 kB)\n",
            "Collecting groovy~=0.1 (from gradio)\n",
            "  Downloading groovy-0.1.2-py3-none-any.whl.metadata (6.1 kB)\n",
            "Requirement already satisfied: httpx>=0.24.1 in /usr/local/lib/python3.11/dist-packages (from gradio) (0.28.1)\n",
            "Requirement already satisfied: huggingface-hub>=0.28.1 in /usr/local/lib/python3.11/dist-packages (from gradio) (0.31.2)\n",
            "Requirement already satisfied: jinja2<4.0 in /usr/local/lib/python3.11/dist-packages (from gradio) (3.1.6)\n",
            "Requirement already satisfied: markupsafe<4.0,>=2.0 in /usr/local/lib/python3.11/dist-packages (from gradio) (3.0.2)\n",
            "Requirement already satisfied: orjson~=3.0 in /usr/local/lib/python3.11/dist-packages (from gradio) (3.10.18)\n",
            "Requirement already satisfied: packaging in /usr/local/lib/python3.11/dist-packages (from gradio) (24.2)\n",
            "Requirement already satisfied: pillow<12.0,>=8.0 in /usr/local/lib/python3.11/dist-packages (from gradio) (11.2.1)\n",
            "Requirement already satisfied: pydantic<2.12,>=2.0 in /usr/local/lib/python3.11/dist-packages (from gradio) (2.11.4)\n",
            "Collecting python-multipart>=0.0.18 (from gradio)\n",
            "  Downloading python_multipart-0.0.20-py3-none-any.whl.metadata (1.8 kB)\n",
            "Requirement already satisfied: pyyaml<7.0,>=5.0 in /usr/local/lib/python3.11/dist-packages (from gradio) (6.0.2)\n",
            "Collecting ruff>=0.9.3 (from gradio)\n",
            "  Downloading ruff-0.11.10-py3-none-manylinux_2_17_x86_64.manylinux2014_x86_64.whl.metadata (25 kB)\n",
            "Collecting safehttpx<0.2.0,>=0.1.6 (from gradio)\n",
            "  Downloading safehttpx-0.1.6-py3-none-any.whl.metadata (4.2 kB)\n",
            "Collecting semantic-version~=2.0 (from gradio)\n",
            "  Downloading semantic_version-2.10.0-py2.py3-none-any.whl.metadata (9.7 kB)\n",
            "Collecting starlette<1.0,>=0.40.0 (from gradio)\n",
            "  Downloading starlette-0.46.2-py3-none-any.whl.metadata (6.2 kB)\n",
            "Collecting tomlkit<0.14.0,>=0.12.0 (from gradio)\n",
            "  Downloading tomlkit-0.13.2-py3-none-any.whl.metadata (2.7 kB)\n",
            "Requirement already satisfied: typer<1.0,>=0.12 in /usr/local/lib/python3.11/dist-packages (from gradio) (0.15.3)\n",
            "Requirement already satisfied: typing-extensions~=4.0 in /usr/local/lib/python3.11/dist-packages (from gradio) (4.13.2)\n",
            "Collecting uvicorn>=0.14.0 (from gradio)\n",
            "  Downloading uvicorn-0.34.2-py3-none-any.whl.metadata (6.5 kB)\n",
            "Requirement already satisfied: fsspec in /usr/local/lib/python3.11/dist-packages (from gradio-client==1.10.1->gradio) (2025.3.2)\n",
            "Requirement already satisfied: websockets<16.0,>=10.0 in /usr/local/lib/python3.11/dist-packages (from gradio-client==1.10.1->gradio) (15.0.1)\n",
            "Requirement already satisfied: requests<3,>=2.27 in /usr/local/lib/python3.11/dist-packages (from gtts) (2.32.3)\n",
            "Requirement already satisfied: click<8.2,>=7.1 in /usr/local/lib/python3.11/dist-packages (from gtts) (8.1.8)\n",
            "Requirement already satisfied: filelock in /usr/local/lib/python3.11/dist-packages (from transformers) (3.18.0)\n",
            "Requirement already satisfied: regex!=2019.12.17 in /usr/local/lib/python3.11/dist-packages (from transformers) (2024.11.6)\n",
            "Requirement already satisfied: tokenizers<0.22,>=0.21 in /usr/local/lib/python3.11/dist-packages (from transformers) (0.21.1)\n",
            "Requirement already satisfied: safetensors>=0.4.3 in /usr/local/lib/python3.11/dist-packages (from transformers) (0.5.3)\n",
            "Requirement already satisfied: tqdm>=4.27 in /usr/local/lib/python3.11/dist-packages (from transformers) (4.67.1)\n",
            "Requirement already satisfied: networkx in /usr/local/lib/python3.11/dist-packages (from torch) (3.4.2)\n",
            "Requirement already satisfied: nvidia-cuda-nvrtc-cu12==12.4.127 in /usr/local/lib/python3.11/dist-packages (from torch) (12.4.127)\n",
            "Requirement already satisfied: nvidia-cuda-runtime-cu12==12.4.127 in /usr/local/lib/python3.11/dist-packages (from torch) (12.4.127)\n",
            "Requirement already satisfied: nvidia-cuda-cupti-cu12==12.4.127 in /usr/local/lib/python3.11/dist-packages (from torch) (12.4.127)\n",
            "Requirement already satisfied: nvidia-cudnn-cu12==9.1.0.70 in /usr/local/lib/python3.11/dist-packages (from torch) (9.1.0.70)\n",
            "Requirement already satisfied: nvidia-cublas-cu12==12.4.5.8 in /usr/local/lib/python3.11/dist-packages (from torch) (12.4.5.8)\n",
            "Requirement already satisfied: nvidia-cufft-cu12==11.2.1.3 in /usr/local/lib/python3.11/dist-packages (from torch) (11.2.1.3)\n",
            "Requirement already satisfied: nvidia-curand-cu12==10.3.5.147 in /usr/local/lib/python3.11/dist-packages (from torch) (10.3.5.147)\n",
            "Requirement already satisfied: nvidia-cusolver-cu12==11.6.1.9 in /usr/local/lib/python3.11/dist-packages (from torch) (11.6.1.9)\n",
            "Requirement already satisfied: nvidia-cusparse-cu12==12.3.1.170 in /usr/local/lib/python3.11/dist-packages (from torch) (12.3.1.170)\n",
            "Requirement already satisfied: nvidia-cusparselt-cu12==0.6.2 in /usr/local/lib/python3.11/dist-packages (from torch) (0.6.2)\n",
            "Requirement already satisfied: nvidia-nccl-cu12==2.21.5 in /usr/local/lib/python3.11/dist-packages (from torch) (2.21.5)\n",
            "Requirement already satisfied: nvidia-nvtx-cu12==12.4.127 in /usr/local/lib/python3.11/dist-packages (from torch) (12.4.127)\n",
            "Requirement already satisfied: nvidia-nvjitlink-cu12==12.4.127 in /usr/local/lib/python3.11/dist-packages (from torch) (12.4.127)\n",
            "Requirement already satisfied: triton==3.2.0 in /usr/local/lib/python3.11/dist-packages (from torch) (3.2.0)\n",
            "Requirement already satisfied: sympy==1.13.1 in /usr/local/lib/python3.11/dist-packages (from torch) (1.13.1)\n",
            "Requirement already satisfied: mpmath<1.4,>=1.1.0 in /usr/local/lib/python3.11/dist-packages (from sympy==1.13.1->torch) (1.3.0)\n",
            "Requirement already satisfied: joblib in /usr/local/lib/python3.11/dist-packages (from nltk) (1.5.0)\n",
            "Requirement already satisfied: rapidfuzz>=3.9.7 in /usr/local/lib/python3.11/dist-packages (from jiwer) (3.13.0)\n",
            "Requirement already satisfied: contourpy>=1.0.1 in /usr/local/lib/python3.11/dist-packages (from matplotlib) (1.3.2)\n",
            "Requirement already satisfied: cycler>=0.10 in /usr/local/lib/python3.11/dist-packages (from matplotlib) (0.12.1)\n",
            "Requirement already satisfied: fonttools>=4.22.0 in /usr/local/lib/python3.11/dist-packages (from matplotlib) (4.58.0)\n",
            "Requirement already satisfied: kiwisolver>=1.3.1 in /usr/local/lib/python3.11/dist-packages (from matplotlib) (1.4.8)\n",
            "Requirement already satisfied: pyparsing>=2.3.1 in /usr/local/lib/python3.11/dist-packages (from matplotlib) (3.2.3)\n",
            "Requirement already satisfied: python-dateutil>=2.7 in /usr/local/lib/python3.11/dist-packages (from matplotlib) (2.9.0.post0)\n",
            "Requirement already satisfied: pytz>=2020.1 in /usr/local/lib/python3.11/dist-packages (from pandas) (2025.2)\n",
            "Requirement already satisfied: tzdata>=2022.7 in /usr/local/lib/python3.11/dist-packages (from pandas) (2025.2)\n",
            "Requirement already satisfied: idna>=2.8 in /usr/local/lib/python3.11/dist-packages (from anyio<5.0,>=3.0->gradio) (3.10)\n",
            "Requirement already satisfied: sniffio>=1.1 in /usr/local/lib/python3.11/dist-packages (from anyio<5.0,>=3.0->gradio) (1.3.1)\n",
            "Requirement already satisfied: certifi in /usr/local/lib/python3.11/dist-packages (from httpx>=0.24.1->gradio) (2025.4.26)\n",
            "Requirement already satisfied: httpcore==1.* in /usr/local/lib/python3.11/dist-packages (from httpx>=0.24.1->gradio) (1.0.9)\n",
            "Requirement already satisfied: h11>=0.16 in /usr/local/lib/python3.11/dist-packages (from httpcore==1.*->httpx>=0.24.1->gradio) (0.16.0)\n",
            "Requirement already satisfied: annotated-types>=0.6.0 in /usr/local/lib/python3.11/dist-packages (from pydantic<2.12,>=2.0->gradio) (0.7.0)\n",
            "Requirement already satisfied: pydantic-core==2.33.2 in /usr/local/lib/python3.11/dist-packages (from pydantic<2.12,>=2.0->gradio) (2.33.2)\n",
            "Requirement already satisfied: typing-inspection>=0.4.0 in /usr/local/lib/python3.11/dist-packages (from pydantic<2.12,>=2.0->gradio) (0.4.0)\n",
            "Requirement already satisfied: six>=1.5 in /usr/local/lib/python3.11/dist-packages (from python-dateutil>=2.7->matplotlib) (1.17.0)\n",
            "Requirement already satisfied: charset-normalizer<4,>=2 in /usr/local/lib/python3.11/dist-packages (from requests<3,>=2.27->gtts) (3.4.2)\n",
            "Requirement already satisfied: urllib3<3,>=1.21.1 in /usr/local/lib/python3.11/dist-packages (from requests<3,>=2.27->gtts) (2.4.0)\n",
            "Requirement already satisfied: shellingham>=1.3.0 in /usr/local/lib/python3.11/dist-packages (from typer<1.0,>=0.12->gradio) (1.5.4)\n",
            "Requirement already satisfied: rich>=10.11.0 in /usr/local/lib/python3.11/dist-packages (from typer<1.0,>=0.12->gradio) (13.9.4)\n",
            "Requirement already satisfied: markdown-it-py>=2.2.0 in /usr/local/lib/python3.11/dist-packages (from rich>=10.11.0->typer<1.0,>=0.12->gradio) (3.0.0)\n",
            "Requirement already satisfied: pygments<3.0.0,>=2.13.0 in /usr/local/lib/python3.11/dist-packages (from rich>=10.11.0->typer<1.0,>=0.12->gradio) (2.19.1)\n",
            "Requirement already satisfied: mdurl~=0.1 in /usr/local/lib/python3.11/dist-packages (from markdown-it-py>=2.2.0->rich>=10.11.0->typer<1.0,>=0.12->gradio) (0.1.2)\n",
            "Downloading gradio-5.29.1-py3-none-any.whl (54.1 MB)\n",
            "\u001b[2K   \u001b[90m━━━━━━━━━━━━━━━━━━━━━━━━━━━━━━━━━━━━━━━━\u001b[0m \u001b[32m54.1/54.1 MB\u001b[0m \u001b[31m16.5 MB/s\u001b[0m eta \u001b[36m0:00:00\u001b[0m\n",
            "\u001b[?25hDownloading gradio_client-1.10.1-py3-none-any.whl (323 kB)\n",
            "\u001b[2K   \u001b[90m━━━━━━━━━━━━━━━━━━━━━━━━━━━━━━━━━━━━━━━━\u001b[0m \u001b[32m323.1/323.1 kB\u001b[0m \u001b[31m29.7 MB/s\u001b[0m eta \u001b[36m0:00:00\u001b[0m\n",
            "\u001b[?25hDownloading aiofiles-24.1.0-py3-none-any.whl (15 kB)\n",
            "Downloading fastapi-0.115.12-py3-none-any.whl (95 kB)\n",
            "\u001b[2K   \u001b[90m━━━━━━━━━━━━━━━━━━━━━━━━━━━━━━━━━━━━━━━━\u001b[0m \u001b[32m95.2/95.2 kB\u001b[0m \u001b[31m10.5 MB/s\u001b[0m eta \u001b[36m0:00:00\u001b[0m\n",
            "\u001b[?25hDownloading groovy-0.1.2-py3-none-any.whl (14 kB)\n",
            "Downloading python_multipart-0.0.20-py3-none-any.whl (24 kB)\n",
            "Downloading ruff-0.11.10-py3-none-manylinux_2_17_x86_64.manylinux2014_x86_64.whl (11.6 MB)\n",
            "\u001b[2K   \u001b[90m━━━━━━━━━━━━━━━━━━━━━━━━━━━━━━━━━━━━━━━━\u001b[0m \u001b[32m11.6/11.6 MB\u001b[0m \u001b[31m125.5 MB/s\u001b[0m eta \u001b[36m0:00:00\u001b[0m\n",
            "\u001b[?25hDownloading safehttpx-0.1.6-py3-none-any.whl (8.7 kB)\n",
            "Downloading semantic_version-2.10.0-py2.py3-none-any.whl (15 kB)\n",
            "Downloading starlette-0.46.2-py3-none-any.whl (72 kB)\n",
            "\u001b[2K   \u001b[90m━━━━━━━━━━━━━━━━━━━━━━━━━━━━━━━━━━━━━━━━\u001b[0m \u001b[32m72.0/72.0 kB\u001b[0m \u001b[31m7.5 MB/s\u001b[0m eta \u001b[36m0:00:00\u001b[0m\n",
            "\u001b[?25hDownloading tomlkit-0.13.2-py3-none-any.whl (37 kB)\n",
            "Downloading uvicorn-0.34.2-py3-none-any.whl (62 kB)\n",
            "\u001b[2K   \u001b[90m━━━━━━━━━━━━━━━━━━━━━━━━━━━━━━━━━━━━━━━━\u001b[0m \u001b[32m62.5/62.5 kB\u001b[0m \u001b[31m6.6 MB/s\u001b[0m eta \u001b[36m0:00:00\u001b[0m\n",
            "\u001b[?25hDownloading ffmpy-0.5.0-py3-none-any.whl (6.0 kB)\n",
            "Installing collected packages: uvicorn, tomlkit, semantic-version, ruff, python-multipart, groovy, ffmpy, aiofiles, starlette, safehttpx, gradio-client, fastapi, gradio\n",
            "Successfully installed aiofiles-24.1.0 fastapi-0.115.12 ffmpy-0.5.0 gradio-5.29.1 gradio-client-1.10.1 groovy-0.1.2 python-multipart-0.0.20 ruff-0.11.10 safehttpx-0.1.6 semantic-version-2.10.0 starlette-0.46.2 tomlkit-0.13.2 uvicorn-0.34.2\n"
          ]
        }
      ]
    },
    {
      "cell_type": "code",
      "source": [
        "!pip install pipwin\n",
        "!pip win install pyaudio"
      ],
      "metadata": {
        "colab": {
          "base_uri": "https://localhost:8080/"
        },
        "collapsed": true,
        "id": "1DBE6eAVDHJ5",
        "outputId": "7bc801bf-97f4-4d4d-c2e9-deb06b4b4a52"
      },
      "execution_count": 18,
      "outputs": [
        {
          "output_type": "stream",
          "name": "stdout",
          "text": [
            "Collecting pipwin\n",
            "  Downloading pipwin-0.5.2.tar.gz (7.9 kB)\n",
            "  Preparing metadata (setup.py) ... \u001b[?25l\u001b[?25hdone\n",
            "Collecting docopt (from pipwin)\n",
            "  Downloading docopt-0.6.2.tar.gz (25 kB)\n",
            "  Preparing metadata (setup.py) ... \u001b[?25l\u001b[?25hdone\n",
            "Requirement already satisfied: requests in /usr/local/lib/python3.11/dist-packages (from pipwin) (2.32.3)\n",
            "Collecting pyprind (from pipwin)\n",
            "  Downloading PyPrind-2.11.3-py2.py3-none-any.whl.metadata (1.1 kB)\n",
            "Requirement already satisfied: six in /usr/local/lib/python3.11/dist-packages (from pipwin) (1.17.0)\n",
            "Requirement already satisfied: beautifulsoup4>=4.9.0 in /usr/local/lib/python3.11/dist-packages (from pipwin) (4.13.4)\n",
            "Collecting js2py (from pipwin)\n",
            "  Downloading Js2Py-0.74-py3-none-any.whl.metadata (868 bytes)\n",
            "Requirement already satisfied: packaging in /usr/local/lib/python3.11/dist-packages (from pipwin) (24.2)\n",
            "Collecting pySmartDL>=1.3.1 (from pipwin)\n",
            "  Downloading pySmartDL-1.3.4-py3-none-any.whl.metadata (2.8 kB)\n",
            "Requirement already satisfied: soupsieve>1.2 in /usr/local/lib/python3.11/dist-packages (from beautifulsoup4>=4.9.0->pipwin) (2.7)\n",
            "Requirement already satisfied: typing-extensions>=4.0.0 in /usr/local/lib/python3.11/dist-packages (from beautifulsoup4>=4.9.0->pipwin) (4.13.2)\n",
            "Requirement already satisfied: tzlocal>=1.2 in /usr/local/lib/python3.11/dist-packages (from js2py->pipwin) (5.3.1)\n",
            "Collecting pyjsparser>=2.5.1 (from js2py->pipwin)\n",
            "  Downloading pyjsparser-2.7.1.tar.gz (24 kB)\n",
            "  Preparing metadata (setup.py) ... \u001b[?25l\u001b[?25hdone\n",
            "Requirement already satisfied: charset-normalizer<4,>=2 in /usr/local/lib/python3.11/dist-packages (from requests->pipwin) (3.4.2)\n",
            "Requirement already satisfied: idna<4,>=2.5 in /usr/local/lib/python3.11/dist-packages (from requests->pipwin) (3.10)\n",
            "Requirement already satisfied: urllib3<3,>=1.21.1 in /usr/local/lib/python3.11/dist-packages (from requests->pipwin) (2.4.0)\n",
            "Requirement already satisfied: certifi>=2017.4.17 in /usr/local/lib/python3.11/dist-packages (from requests->pipwin) (2025.4.26)\n",
            "Downloading pySmartDL-1.3.4-py3-none-any.whl (20 kB)\n",
            "Downloading Js2Py-0.74-py3-none-any.whl (1.0 MB)\n",
            "\u001b[2K   \u001b[90m━━━━━━━━━━━━━━━━━━━━━━━━━━━━━━━━━━━━━━━━\u001b[0m \u001b[32m1.0/1.0 MB\u001b[0m \u001b[31m33.3 MB/s\u001b[0m eta \u001b[36m0:00:00\u001b[0m\n",
            "\u001b[?25hDownloading PyPrind-2.11.3-py2.py3-none-any.whl (8.4 kB)\n",
            "Building wheels for collected packages: pipwin, docopt, pyjsparser\n",
            "  Building wheel for pipwin (setup.py) ... \u001b[?25l\u001b[?25hdone\n",
            "  Created wheel for pipwin: filename=pipwin-0.5.2-py2.py3-none-any.whl size=8770 sha256=775cdb510949faa5074466f3a6deb2d8c524305fcbd70dac316815db169379b6\n",
            "  Stored in directory: /root/.cache/pip/wheels/07/45/2e/51ee464b7c3407327439df34c2fc62f978a1e5084aaf23d201\n",
            "  Building wheel for docopt (setup.py) ... \u001b[?25l\u001b[?25hdone\n",
            "  Created wheel for docopt: filename=docopt-0.6.2-py2.py3-none-any.whl size=13706 sha256=bcf94858c95048dc511d0c30b26b7997926e3874dc3b9b23149bc0f6a10d5b2f\n",
            "  Stored in directory: /root/.cache/pip/wheels/1a/b0/8c/4b75c4116c31f83c8f9f047231251e13cc74481cca4a78a9ce\n",
            "  Building wheel for pyjsparser (setup.py) ... \u001b[?25l\u001b[?25hdone\n",
            "  Created wheel for pyjsparser: filename=pyjsparser-2.7.1-py3-none-any.whl size=25982 sha256=4cbf42bd2afb8d4052cb8cd883ef10b1ca19cda17a5c8b787d9a63ada0093b38\n",
            "  Stored in directory: /root/.cache/pip/wheels/a5/9a/30/1003e89ab4555b81840ca46d361bf184f1e6ad880cae3b62a9\n",
            "Successfully built pipwin docopt pyjsparser\n",
            "Installing collected packages: pySmartDL, pyprind, pyjsparser, docopt, js2py, pipwin\n",
            "Successfully installed docopt-0.6.2 js2py-0.74 pipwin-0.5.2 pySmartDL-1.3.4 pyjsparser-2.7.1 pyprind-2.11.3\n",
            "ERROR: unknown command \"win\"\n"
          ]
        }
      ]
    },
    {
      "cell_type": "markdown",
      "source": [
        "**Gardio Interface Code**"
      ],
      "metadata": {
        "id": "ztFiVvVMIT3h"
      }
    },
    {
      "cell_type": "code",
      "source": [
        "!pip install gradio gTTS pydub SpeechRecognition transformers torch\n"
      ],
      "metadata": {
        "colab": {
          "base_uri": "https://localhost:8080/"
        },
        "collapsed": true,
        "id": "vvy73S0_O0Jb",
        "outputId": "ab58d250-e12e-432d-e2b1-c3724104630a"
      },
      "execution_count": 48,
      "outputs": [
        {
          "output_type": "stream",
          "name": "stdout",
          "text": [
            "Requirement already satisfied: gradio in /usr/local/lib/python3.11/dist-packages (5.29.1)\n",
            "Requirement already satisfied: gTTS in /usr/local/lib/python3.11/dist-packages (2.5.4)\n",
            "Requirement already satisfied: pydub in /usr/local/lib/python3.11/dist-packages (0.25.1)\n",
            "Requirement already satisfied: SpeechRecognition in /usr/local/lib/python3.11/dist-packages (3.14.3)\n",
            "Requirement already satisfied: transformers in /usr/local/lib/python3.11/dist-packages (4.51.3)\n",
            "Requirement already satisfied: torch in /usr/local/lib/python3.11/dist-packages (2.6.0+cu124)\n",
            "Requirement already satisfied: aiofiles<25.0,>=22.0 in /usr/local/lib/python3.11/dist-packages (from gradio) (24.1.0)\n",
            "Requirement already satisfied: anyio<5.0,>=3.0 in /usr/local/lib/python3.11/dist-packages (from gradio) (4.9.0)\n",
            "Requirement already satisfied: fastapi<1.0,>=0.115.2 in /usr/local/lib/python3.11/dist-packages (from gradio) (0.115.12)\n",
            "Requirement already satisfied: ffmpy in /usr/local/lib/python3.11/dist-packages (from gradio) (0.5.0)\n",
            "Requirement already satisfied: gradio-client==1.10.1 in /usr/local/lib/python3.11/dist-packages (from gradio) (1.10.1)\n",
            "Requirement already satisfied: groovy~=0.1 in /usr/local/lib/python3.11/dist-packages (from gradio) (0.1.2)\n",
            "Requirement already satisfied: httpx>=0.24.1 in /usr/local/lib/python3.11/dist-packages (from gradio) (0.28.1)\n",
            "Requirement already satisfied: huggingface-hub>=0.28.1 in /usr/local/lib/python3.11/dist-packages (from gradio) (0.31.2)\n",
            "Requirement already satisfied: jinja2<4.0 in /usr/local/lib/python3.11/dist-packages (from gradio) (3.1.6)\n",
            "Requirement already satisfied: markupsafe<4.0,>=2.0 in /usr/local/lib/python3.11/dist-packages (from gradio) (3.0.2)\n",
            "Requirement already satisfied: numpy<3.0,>=1.0 in /usr/local/lib/python3.11/dist-packages (from gradio) (2.0.2)\n",
            "Requirement already satisfied: orjson~=3.0 in /usr/local/lib/python3.11/dist-packages (from gradio) (3.10.18)\n",
            "Requirement already satisfied: packaging in /usr/local/lib/python3.11/dist-packages (from gradio) (24.2)\n",
            "Requirement already satisfied: pandas<3.0,>=1.0 in /usr/local/lib/python3.11/dist-packages (from gradio) (2.2.2)\n",
            "Requirement already satisfied: pillow<12.0,>=8.0 in /usr/local/lib/python3.11/dist-packages (from gradio) (11.2.1)\n",
            "Requirement already satisfied: pydantic<2.12,>=2.0 in /usr/local/lib/python3.11/dist-packages (from gradio) (2.11.4)\n",
            "Requirement already satisfied: python-multipart>=0.0.18 in /usr/local/lib/python3.11/dist-packages (from gradio) (0.0.20)\n",
            "Requirement already satisfied: pyyaml<7.0,>=5.0 in /usr/local/lib/python3.11/dist-packages (from gradio) (6.0.2)\n",
            "Requirement already satisfied: ruff>=0.9.3 in /usr/local/lib/python3.11/dist-packages (from gradio) (0.11.10)\n",
            "Requirement already satisfied: safehttpx<0.2.0,>=0.1.6 in /usr/local/lib/python3.11/dist-packages (from gradio) (0.1.6)\n",
            "Requirement already satisfied: semantic-version~=2.0 in /usr/local/lib/python3.11/dist-packages (from gradio) (2.10.0)\n",
            "Requirement already satisfied: starlette<1.0,>=0.40.0 in /usr/local/lib/python3.11/dist-packages (from gradio) (0.46.2)\n",
            "Requirement already satisfied: tomlkit<0.14.0,>=0.12.0 in /usr/local/lib/python3.11/dist-packages (from gradio) (0.13.2)\n",
            "Requirement already satisfied: typer<1.0,>=0.12 in /usr/local/lib/python3.11/dist-packages (from gradio) (0.15.3)\n",
            "Requirement already satisfied: typing-extensions~=4.0 in /usr/local/lib/python3.11/dist-packages (from gradio) (4.13.2)\n",
            "Requirement already satisfied: uvicorn>=0.14.0 in /usr/local/lib/python3.11/dist-packages (from gradio) (0.34.2)\n",
            "Requirement already satisfied: fsspec in /usr/local/lib/python3.11/dist-packages (from gradio-client==1.10.1->gradio) (2025.3.2)\n",
            "Requirement already satisfied: websockets<16.0,>=10.0 in /usr/local/lib/python3.11/dist-packages (from gradio-client==1.10.1->gradio) (15.0.1)\n",
            "Requirement already satisfied: requests<3,>=2.27 in /usr/local/lib/python3.11/dist-packages (from gTTS) (2.32.3)\n",
            "Requirement already satisfied: click<8.2,>=7.1 in /usr/local/lib/python3.11/dist-packages (from gTTS) (8.1.8)\n",
            "Requirement already satisfied: filelock in /usr/local/lib/python3.11/dist-packages (from transformers) (3.18.0)\n",
            "Requirement already satisfied: regex!=2019.12.17 in /usr/local/lib/python3.11/dist-packages (from transformers) (2024.11.6)\n",
            "Requirement already satisfied: tokenizers<0.22,>=0.21 in /usr/local/lib/python3.11/dist-packages (from transformers) (0.21.1)\n",
            "Requirement already satisfied: safetensors>=0.4.3 in /usr/local/lib/python3.11/dist-packages (from transformers) (0.5.3)\n",
            "Requirement already satisfied: tqdm>=4.27 in /usr/local/lib/python3.11/dist-packages (from transformers) (4.67.1)\n",
            "Requirement already satisfied: networkx in /usr/local/lib/python3.11/dist-packages (from torch) (3.4.2)\n",
            "Requirement already satisfied: nvidia-cuda-nvrtc-cu12==12.4.127 in /usr/local/lib/python3.11/dist-packages (from torch) (12.4.127)\n",
            "Requirement already satisfied: nvidia-cuda-runtime-cu12==12.4.127 in /usr/local/lib/python3.11/dist-packages (from torch) (12.4.127)\n",
            "Requirement already satisfied: nvidia-cuda-cupti-cu12==12.4.127 in /usr/local/lib/python3.11/dist-packages (from torch) (12.4.127)\n",
            "Requirement already satisfied: nvidia-cudnn-cu12==9.1.0.70 in /usr/local/lib/python3.11/dist-packages (from torch) (9.1.0.70)\n",
            "Requirement already satisfied: nvidia-cublas-cu12==12.4.5.8 in /usr/local/lib/python3.11/dist-packages (from torch) (12.4.5.8)\n",
            "Requirement already satisfied: nvidia-cufft-cu12==11.2.1.3 in /usr/local/lib/python3.11/dist-packages (from torch) (11.2.1.3)\n",
            "Requirement already satisfied: nvidia-curand-cu12==10.3.5.147 in /usr/local/lib/python3.11/dist-packages (from torch) (10.3.5.147)\n",
            "Requirement already satisfied: nvidia-cusolver-cu12==11.6.1.9 in /usr/local/lib/python3.11/dist-packages (from torch) (11.6.1.9)\n",
            "Requirement already satisfied: nvidia-cusparse-cu12==12.3.1.170 in /usr/local/lib/python3.11/dist-packages (from torch) (12.3.1.170)\n",
            "Requirement already satisfied: nvidia-cusparselt-cu12==0.6.2 in /usr/local/lib/python3.11/dist-packages (from torch) (0.6.2)\n",
            "Requirement already satisfied: nvidia-nccl-cu12==2.21.5 in /usr/local/lib/python3.11/dist-packages (from torch) (2.21.5)\n",
            "Requirement already satisfied: nvidia-nvtx-cu12==12.4.127 in /usr/local/lib/python3.11/dist-packages (from torch) (12.4.127)\n",
            "Requirement already satisfied: nvidia-nvjitlink-cu12==12.4.127 in /usr/local/lib/python3.11/dist-packages (from torch) (12.4.127)\n",
            "Requirement already satisfied: triton==3.2.0 in /usr/local/lib/python3.11/dist-packages (from torch) (3.2.0)\n",
            "Requirement already satisfied: sympy==1.13.1 in /usr/local/lib/python3.11/dist-packages (from torch) (1.13.1)\n",
            "Requirement already satisfied: mpmath<1.4,>=1.1.0 in /usr/local/lib/python3.11/dist-packages (from sympy==1.13.1->torch) (1.3.0)\n",
            "Requirement already satisfied: idna>=2.8 in /usr/local/lib/python3.11/dist-packages (from anyio<5.0,>=3.0->gradio) (3.10)\n",
            "Requirement already satisfied: sniffio>=1.1 in /usr/local/lib/python3.11/dist-packages (from anyio<5.0,>=3.0->gradio) (1.3.1)\n",
            "Requirement already satisfied: certifi in /usr/local/lib/python3.11/dist-packages (from httpx>=0.24.1->gradio) (2025.4.26)\n",
            "Requirement already satisfied: httpcore==1.* in /usr/local/lib/python3.11/dist-packages (from httpx>=0.24.1->gradio) (1.0.9)\n",
            "Requirement already satisfied: h11>=0.16 in /usr/local/lib/python3.11/dist-packages (from httpcore==1.*->httpx>=0.24.1->gradio) (0.16.0)\n",
            "Requirement already satisfied: python-dateutil>=2.8.2 in /usr/local/lib/python3.11/dist-packages (from pandas<3.0,>=1.0->gradio) (2.9.0.post0)\n",
            "Requirement already satisfied: pytz>=2020.1 in /usr/local/lib/python3.11/dist-packages (from pandas<3.0,>=1.0->gradio) (2025.2)\n",
            "Requirement already satisfied: tzdata>=2022.7 in /usr/local/lib/python3.11/dist-packages (from pandas<3.0,>=1.0->gradio) (2025.2)\n",
            "Requirement already satisfied: annotated-types>=0.6.0 in /usr/local/lib/python3.11/dist-packages (from pydantic<2.12,>=2.0->gradio) (0.7.0)\n",
            "Requirement already satisfied: pydantic-core==2.33.2 in /usr/local/lib/python3.11/dist-packages (from pydantic<2.12,>=2.0->gradio) (2.33.2)\n",
            "Requirement already satisfied: typing-inspection>=0.4.0 in /usr/local/lib/python3.11/dist-packages (from pydantic<2.12,>=2.0->gradio) (0.4.0)\n",
            "Requirement already satisfied: charset-normalizer<4,>=2 in /usr/local/lib/python3.11/dist-packages (from requests<3,>=2.27->gTTS) (3.4.2)\n",
            "Requirement already satisfied: urllib3<3,>=1.21.1 in /usr/local/lib/python3.11/dist-packages (from requests<3,>=2.27->gTTS) (2.4.0)\n",
            "Requirement already satisfied: shellingham>=1.3.0 in /usr/local/lib/python3.11/dist-packages (from typer<1.0,>=0.12->gradio) (1.5.4)\n",
            "Requirement already satisfied: rich>=10.11.0 in /usr/local/lib/python3.11/dist-packages (from typer<1.0,>=0.12->gradio) (13.9.4)\n",
            "Requirement already satisfied: six>=1.5 in /usr/local/lib/python3.11/dist-packages (from python-dateutil>=2.8.2->pandas<3.0,>=1.0->gradio) (1.17.0)\n",
            "Requirement already satisfied: markdown-it-py>=2.2.0 in /usr/local/lib/python3.11/dist-packages (from rich>=10.11.0->typer<1.0,>=0.12->gradio) (3.0.0)\n",
            "Requirement already satisfied: pygments<3.0.0,>=2.13.0 in /usr/local/lib/python3.11/dist-packages (from rich>=10.11.0->typer<1.0,>=0.12->gradio) (2.19.1)\n",
            "Requirement already satisfied: mdurl~=0.1 in /usr/local/lib/python3.11/dist-packages (from markdown-it-py>=2.2.0->rich>=10.11.0->typer<1.0,>=0.12->gradio) (0.1.2)\n"
          ]
        }
      ]
    },
    {
      "cell_type": "code",
      "source": [
        "\n",
        "\n",
        "import os\n",
        "import tempfile\n",
        "\n",
        "import gradio as gr\n",
        "from gtts import gTTS\n",
        "from pydub import AudioSegment\n",
        "import speech_recognition as sr\n",
        "from transformers import MarianMTModel, MarianTokenizer\n",
        "\n",
        "\n",
        "MODEL_NAME = \"Helsinki-NLP/opus-mt-en-fr\"\n",
        "tokenizer = MarianTokenizer.from_pretrained(MODEL_NAME)\n",
        "model = MarianMTModel.from_pretrained(MODEL_NAME)\n",
        "\n",
        "recognizer = sr.Recognizer()\n",
        "\n",
        "\n",
        "def translate_en_fr(text: str) -> str:\n",
        "    \"\"\"Translate English text to French using MarianMT.\"\"\"\n",
        "    if not text:\n",
        "        return \"\"\n",
        "    inputs = tokenizer(text, return_tensors=\"pt\", padding=True)\n",
        "    translated_tokens = model.generate(**inputs)\n",
        "    french_text = tokenizer.decode(translated_tokens[0], skip_special_tokens=True)\n",
        "    return french_text\n",
        "\n",
        "\n",
        "\n",
        "def speech_to_speech(audio_path: str):\n",
        "    \"\"\"\n",
        "    Convert incoming English speech (WAV/MP3/OGG, etc.) to French speech.\n",
        "\n",
        "    Returns:\n",
        "        french_audio_path (str): Path to generated French speech (.mp3)\n",
        "        recognized_en (str):  Recognized English transcript\n",
        "        translated_fr (str):  Translated French text\n",
        "    \"\"\"\n",
        "    if audio_path is None:\n",
        "        return None, \"\", \"\"\n",
        "\n",
        "\n",
        "    try:\n",
        "        sound = AudioSegment.from_file(audio_path)\n",
        "    except Exception as e:\n",
        "        return None, \"\", f\"Error reading audio file: {e}\"\n",
        "\n",
        "    with tempfile.NamedTemporaryFile(delete=False, suffix=\".wav\") as wav_tmp:\n",
        "        wav_path = wav_tmp.name\n",
        "        sound.export(wav_path, format=\"wav\", codec=\"pcm_s16le\")\n",
        "\n",
        "    try:\n",
        "        with sr.AudioFile(wav_path) as source:\n",
        "            audio_data = recognizer.record(source)\n",
        "        recognized_en = recognizer.recognize_google(audio_data)\n",
        "    except sr.UnknownValueError:\n",
        "        os.remove(wav_path)\n",
        "        return None, \"\", \"Sorry – I couldn't understand the speech.\"\n",
        "    except sr.RequestError as e:\n",
        "        os.remove(wav_path)\n",
        "        return None, \"\", f\"Speech recognition service error: {e}\"\n",
        "\n",
        "    translated_fr = translate_en_fr(recognized_en)\n",
        "\n",
        "\n",
        "    tts = gTTS(translated_fr, lang=\"fr\")\n",
        "    with tempfile.NamedTemporaryFile(delete=False, suffix=\".mp3\") as mp3_tmp:\n",
        "        tts.save(mp3_tmp.name)\n",
        "        french_audio_path = mp3_tmp.name\n",
        "\n",
        "\n",
        "    os.remove(wav_path)\n",
        "\n",
        "    return french_audio_path, recognized_en, translated_fr\n",
        "\n",
        "\n",
        "\n",
        "\n",
        "demo = gr.Interface(\n",
        "    fn=speech_to_speech,\n",
        "    inputs=gr.Audio(\n",
        "        sources=[\"microphone\", \"upload\"],\n",
        "        type=\"filepath\",\n",
        "        label=\"Speak in English or upload an audio file\",\n",
        "    ),\n",
        "    outputs=[\n",
        "        gr.Audio(type=\"filepath\", label=\"French Speech Output\"),\n",
        "        gr.Textbox(label=\"Recognized English Text\"),\n",
        "        gr.Textbox(label=\"Translated French Text\"),\n",
        "    ],\n",
        "    title=\"English ➡️ French – Speech to Speech Translator\",\n",
        "    description=\"Record or upload English speech; the app transcribes it, translates it to French, and plays back the translated speech.\",\n",
        "    allow_flagging=\"never\",\n",
        ")\n",
        "\n",
        "\n",
        "if __name__ == \"__main__\":\n",
        "\n",
        "    demo.launch()\n"
      ],
      "metadata": {
        "colab": {
          "base_uri": "https://localhost:8080/",
          "height": 646
        },
        "id": "ME4jpFkzDzGG",
        "outputId": "37186dda-9ed4-4610-bf95-d8cfbea59823"
      },
      "execution_count": 21,
      "outputs": [
        {
          "output_type": "stream",
          "name": "stdout",
          "text": [
            "It looks like you are running Gradio on a hosted a Jupyter notebook. For the Gradio app to work, sharing must be enabled. Automatically setting `share=True` (you can turn this off by setting `share=False` in `launch()` explicitly).\n",
            "\n",
            "Colab notebook detected. To show errors in colab notebook, set debug=True in launch()\n",
            "* Running on public URL: https://86511d5821217c9bf4.gradio.live\n",
            "\n",
            "This share link expires in 1 week. For free permanent hosting and GPU upgrades, run `gradio deploy` from the terminal in the working directory to deploy to Hugging Face Spaces (https://huggingface.co/spaces)\n"
          ]
        },
        {
          "output_type": "display_data",
          "data": {
            "text/plain": [
              "<IPython.core.display.HTML object>"
            ],
            "text/html": [
              "<div><iframe src=\"https://86511d5821217c9bf4.gradio.live\" width=\"100%\" height=\"500\" allow=\"autoplay; camera; microphone; clipboard-read; clipboard-write;\" frameborder=\"0\" allowfullscreen></iframe></div>"
            ]
          },
          "metadata": {}
        }
      ]
    },
    {
      "cell_type": "markdown",
      "source": [
        "**Error Rate**"
      ],
      "metadata": {
        "id": "kY1LzGYbE3bF"
      }
    },
    {
      "cell_type": "code",
      "source": [
        "from gtts import gTTS\n",
        "from pydub import AudioSegment\n",
        "import speech_recognition as sr\n",
        "from transformers import MarianMTModel, MarianTokenizer\n",
        "from IPython.display import Audio, display\n",
        "import tempfile\n",
        "import numpy as np\n",
        "import pandas as pd\n",
        "import os\n",
        "import time\n",
        "import matplotlib.pyplot as plt\n",
        "from jiwer import wer, mer, wil\n",
        "from nltk.translate.bleu_score import sentence_bleu\n",
        "from nltk.translate.meteor_score import meteor_score\n",
        "import nltk\n",
        "from tqdm import tqdm"
      ],
      "metadata": {
        "id": "gzXIwjHqE8vF"
      },
      "execution_count": 26,
      "outputs": []
    },
    {
      "cell_type": "code",
      "source": [
        "nltk.download('wordnet', quiet=True)\n",
        "nltk.download('punkt', quiet=True)"
      ],
      "metadata": {
        "colab": {
          "base_uri": "https://localhost:8080/"
        },
        "id": "6zolP9fNE-Ie",
        "outputId": "00c3b284-da8e-476d-acc5-d35ece53c70d"
      },
      "execution_count": 27,
      "outputs": [
        {
          "output_type": "execute_result",
          "data": {
            "text/plain": [
              "True"
            ]
          },
          "metadata": {},
          "execution_count": 27
        }
      ]
    },
    {
      "cell_type": "code",
      "source": [
        "english_examples = [\n",
        "    \"Good morning! How are you? Did you eat food? Hope you will have a nice day today.\",\n",
        "    \"The weather is beautiful outside. I think I'll go for a walk in the park.\",\n",
        "    \"Could you please tell me how to get to the nearest train station?\",\n",
        "    \"I need to schedule an appointment with my doctor for next Tuesday.\",\n",
        "    \"My favorite book is about a detective who solves mysteries in a small town.\",\n",
        "    \"The conference will be held on May 25th at the Grand Hotel downtown.\",\n",
        "    \"Scientists have discovered a new species of butterfly in the Amazon rainforest.\",\n",
        "    \"Can you recommend a good restaurant that serves vegetarian food?\",\n",
        "    \"The company announced a 15% increase in profits for the first quarter.\",\n",
        "    \"I'm planning to take a vacation to France next summer with my family.\",\n",
        "    \"The children are playing soccer in the backyard with their friends.\",\n",
        "    \"Please remember to turn off the lights before you leave the house.\",\n",
        "    \"The museum is open from 9 AM to 5 PM from Tuesday through Sunday.\",\n",
        "    \"She has been studying French for three years and can speak it fluently.\",\n",
        "    \"The car needs to be taken to the mechanic for its annual inspection.\",\n",
        "    \"Do you know what time the concert starts tomorrow evening?\",\n",
        "    \"The new smartphone features a better camera and longer battery life.\",\n",
        "    \"I would like to exchange this shirt for a different size, please.\",\n",
        "    \"The recipe calls for two cups of flour and one teaspoon of salt.\",\n",
        "    \"We should plant more trees to help combat climate change.\"\n",
        "]"
      ],
      "metadata": {
        "id": "EuakRUQoE_po"
      },
      "execution_count": 28,
      "outputs": []
    },
    {
      "cell_type": "code",
      "source": [
        "print(\"Loading translation model...\")\n",
        "model_name = \"Helsinki-NLP/opus-mt-en-fr\"\n",
        "tokenizer = MarianTokenizer.from_pretrained(model_name)\n",
        "model = MarianMTModel.from_pretrained(model_name)"
      ],
      "metadata": {
        "colab": {
          "base_uri": "https://localhost:8080/"
        },
        "id": "ve5pF48aFBSn",
        "outputId": "77d6809e-4134-4dab-9b53-f05a6a5917ed"
      },
      "execution_count": 29,
      "outputs": [
        {
          "output_type": "stream",
          "name": "stdout",
          "text": [
            "Loading translation model...\n"
          ]
        }
      ]
    },
    {
      "cell_type": "code",
      "source": [
        "def translate(text, tokenizer, model):\n",
        "    \"\"\"Translate text from English to French\"\"\"\n",
        "    inputs = tokenizer(text, return_tensors=\"pt\", padding=True)\n",
        "    translated = model.generate(**inputs)\n",
        "    return tokenizer.decode(translated[0], skip_special_tokens=True)\n",
        "\n",
        "def levenshtein_distance(str1, str2):\n",
        "    \"\"\"Calculate the Levenshtein distance between two strings.\"\"\"\n",
        "    m, n = len(str1), len(str2)\n",
        "    dp = [[0 for _ in range(n+1)] for _ in range(m+1)]\n",
        "\n",
        "    for i in range(m+1):\n",
        "        dp[i][0] = i\n",
        "    for j in range(n+1):\n",
        "        dp[0][j] = j\n",
        "\n",
        "    for i in range(1, m+1):\n",
        "        for j in range(1, n+1):\n",
        "            cost = 0 if str1[i-1] == str2[j-1] else 1\n",
        "            dp[i][j] = min(dp[i-1][j] + 1,\n",
        "                           dp[i][j-1] + 1,\n",
        "                           dp[i-1][j-1] + cost)\n",
        "\n",
        "    return dp[m][n]"
      ],
      "metadata": {
        "id": "pMQzm6BhFDYE"
      },
      "execution_count": 30,
      "outputs": []
    },
    {
      "cell_type": "code",
      "source": [
        "def character_error_rate(reference, hypothesis):\n",
        "    \"\"\"Calculate character error rate.\"\"\"\n",
        "    if len(reference) == 0:\n",
        "        return 1.0\n",
        "    edits = levenshtein_distance(reference, hypothesis)\n",
        "    return edits / len(reference)\n",
        "\n",
        "\n",
        "temp_dir = tempfile.mkdtemp()\n",
        "print(f\"Created temporary directory for audio files: {temp_dir}\")"
      ],
      "metadata": {
        "colab": {
          "base_uri": "https://localhost:8080/"
        },
        "id": "icPAavNNFFqY",
        "outputId": "31637065-5e42-4797-d340-7fcdda70a542"
      },
      "execution_count": 31,
      "outputs": [
        {
          "output_type": "stream",
          "name": "stdout",
          "text": [
            "Created temporary directory for audio files: /tmp/tmpnauy3phf\n"
          ]
        }
      ]
    },
    {
      "cell_type": "code",
      "source": [
        "\n",
        "results = []\n",
        "\n",
        "\n",
        "print(\"Processing 20 examples...\")\n",
        "for i, english_text in enumerate(tqdm(english_examples)):\n",
        "    example_results = {\n",
        "        'example_id': i + 1,\n",
        "        'original_english': english_text\n",
        "    }\n",
        "\n",
        "    try:\n",
        "\n",
        "        mp3_path = os.path.join(temp_dir, f\"english_{i}.mp3\")\n",
        "        wav_path = os.path.join(temp_dir, f\"english_{i}.wav\")\n",
        "\n",
        "        tts = gTTS(english_text, lang=\"en\")\n",
        "        tts.save(mp3_path)\n",
        "\n",
        "        audio = AudioSegment.from_file(mp3_path, format=\"mp3\")\n",
        "        audio.export(wav_path, format=\"wav\", codec=\"pcm_s16le\")\n",
        "\n",
        "\n",
        "        recognizer = sr.Recognizer()\n",
        "        with sr.AudioFile(wav_path) as source:\n",
        "            audio_data = recognizer.record(source)\n",
        "            try:\n",
        "                recognized_english = recognizer.recognize_google(audio_data)\n",
        "                example_results['recognized_english'] = recognized_english\n",
        "            except (sr.UnknownValueError, sr.RequestError) as e:\n",
        "                example_results['recognized_english'] = \"RECOGNITION_ERROR\"\n",
        "                example_results['error'] = str(e)\n",
        "                results.append(example_results)\n",
        "                continue\n",
        "\n",
        "\n",
        "        french_text = translate(recognized_english, tokenizer, model)\n",
        "        example_results['translated_french'] = french_text\n",
        "\n",
        "\n",
        "        ground_truth_french = translate(english_text, tokenizer, model)\n",
        "        example_results['ground_truth_french'] = ground_truth_french\n",
        "\n",
        "\n",
        "        example_results['wer'] = wer(english_text, recognized_english)\n",
        "        example_results['mer'] = mer(english_text, recognized_english)\n",
        "        example_results['wil'] = wil(english_text, recognized_english)\n",
        "\n",
        "\n",
        "        reference = [ground_truth_french.split()]\n",
        "        candidate = french_text.split()\n",
        "        example_results['bleu'] = sentence_bleu(reference, candidate)\n",
        "        example_results['meteor'] = meteor_score([ground_truth_french.split()], french_text.split())\n",
        "        example_results['cer'] = character_error_rate(ground_truth_french, french_text)\n",
        "\n",
        "\n",
        "        example_results['overall_quality'] = (1 - example_results['wer']) * example_results['bleu']\n",
        "\n",
        "\n",
        "        results.append(example_results)\n",
        "\n",
        "\n",
        "        time.sleep(1)\n",
        "\n",
        "    except Exception as e:\n",
        "        print(f\"Error processing example {i+1}: {str(e)}\")\n",
        "        example_results['error'] = str(e)\n",
        "        results.append(example_results)\n"
      ],
      "metadata": {
        "colab": {
          "base_uri": "https://localhost:8080/"
        },
        "id": "s2xsSh5HFSTc",
        "outputId": "e2012fe2-fa37-49bb-a56d-e2234b2d8fba"
      },
      "execution_count": 32,
      "outputs": [
        {
          "output_type": "stream",
          "name": "stdout",
          "text": [
            "Processing 20 examples...\n"
          ]
        },
        {
          "output_type": "stream",
          "name": "stderr",
          "text": [
            "100%|██████████| 20/20 [01:27<00:00,  4.38s/it]\n"
          ]
        }
      ]
    },
    {
      "cell_type": "code",
      "source": [
        "df = pd.DataFrame(results)"
      ],
      "metadata": {
        "id": "OdM6Vnk5FYKJ"
      },
      "execution_count": 33,
      "outputs": []
    },
    {
      "cell_type": "code",
      "source": [
        "print(\"\\n===== AGGREGATE ERROR STATISTICS =====\\n\")"
      ],
      "metadata": {
        "colab": {
          "base_uri": "https://localhost:8080/"
        },
        "id": "lc44K3S9Fbzo",
        "outputId": "27bdf070-fe9e-4d5a-931d-bba9840c33d5"
      },
      "execution_count": 34,
      "outputs": [
        {
          "output_type": "stream",
          "name": "stdout",
          "text": [
            "\n",
            "===== AGGREGATE ERROR STATISTICS =====\n",
            "\n"
          ]
        }
      ]
    },
    {
      "cell_type": "code",
      "source": [
        "print(\"SPEECH RECOGNITION METRICS:\")\n",
        "recognition_metrics = ['wer', 'mer', 'wil']\n",
        "for metric in recognition_metrics:\n",
        "    if metric in df.columns:\n",
        "        mean_value = df[metric].mean()\n",
        "        std_value = df[metric].std()\n",
        "        print(f\"Average {metric.upper()}: {mean_value:.4f} ± {std_value:.4f}\")"
      ],
      "metadata": {
        "colab": {
          "base_uri": "https://localhost:8080/"
        },
        "id": "CPGg3I3MGl5s",
        "outputId": "9be91a80-0669-46b4-d8cb-2cf223947b29"
      },
      "execution_count": 35,
      "outputs": [
        {
          "output_type": "stream",
          "name": "stdout",
          "text": [
            "SPEECH RECOGNITION METRICS:\n",
            "Average WER: 0.2328 ± 0.1834\n",
            "Average MER: 0.2328 ± 0.1834\n",
            "Average WIL: 0.3774 ± 0.1919\n"
          ]
        }
      ]
    },
    {
      "cell_type": "code",
      "source": [
        "print(\"\\nTRANSLATION METRICS:\")\n",
        "translation_metrics = ['bleu', 'meteor', 'cer']\n",
        "for metric in translation_metrics:\n",
        "    if metric in df.columns:\n",
        "        mean_value = df[metric].mean()\n",
        "        std_value = df[metric].std()\n",
        "        print(f\"Average {metric.upper()}: {mean_value:.4f} ± {std_value:.4f}\")"
      ],
      "metadata": {
        "colab": {
          "base_uri": "https://localhost:8080/"
        },
        "id": "oqbwIBUAG-uo",
        "outputId": "c56c2684-7b51-493a-8feb-738e34d3ed66"
      },
      "execution_count": 36,
      "outputs": [
        {
          "output_type": "stream",
          "name": "stdout",
          "text": [
            "\n",
            "TRANSLATION METRICS:\n",
            "Average BLEU: 0.6423 ± 0.2456\n",
            "Average METEOR: 0.8119 ± 0.2056\n",
            "Average CER: 0.1184 ± 0.1714\n"
          ]
        }
      ]
    },
    {
      "cell_type": "code",
      "source": [
        "if 'overall_quality' in df.columns:\n",
        "    mean_quality = df['overall_quality'].mean()\n",
        "    std_quality = df['overall_quality'].std()\n",
        "    print(f\"\\nAverage overall quality score: {mean_quality:.4f} ± {std_quality:.4f}\")\n",
        "\n",
        "    # Qualitative assessment\n",
        "    if mean_quality > 0.8:\n",
        "        quality_assessment = \"Excellent\"\n",
        "    elif mean_quality > 0.6:\n",
        "        quality_assessment = \"Good\"\n",
        "    elif mean_quality > 0.4:\n",
        "        quality_assessment = \"Fair\"\n",
        "    elif mean_quality > 0.2:\n",
        "        quality_assessment = \"Poor\"\n",
        "    else:\n",
        "        quality_assessment = \"Very poor\"\n",
        "\n",
        "    print(f\"Overall quality assessment: {quality_assessment}\")"
      ],
      "metadata": {
        "colab": {
          "base_uri": "https://localhost:8080/"
        },
        "id": "p46KNbV7HBb5",
        "outputId": "68bc30b1-a826-479e-8062-6ce99dbb884c"
      },
      "execution_count": 37,
      "outputs": [
        {
          "output_type": "stream",
          "name": "stdout",
          "text": [
            "\n",
            "Average overall quality score: 0.5266 ± 0.2203\n",
            "Overall quality assessment: Fair\n"
          ]
        }
      ]
    },
    {
      "cell_type": "code",
      "source": [
        "success_count = len(df[~df['recognized_english'].str.contains(\"RECOGNITION_ERROR\", na=False)])\n",
        "success_rate = success_count / len(df) * 100\n",
        "print(f\"\\nSuccess rate: {success_count}/{len(df)} examples ({success_rate:.1f}%)\")"
      ],
      "metadata": {
        "colab": {
          "base_uri": "https://localhost:8080/"
        },
        "id": "wHanElrGHEQ4",
        "outputId": "b08605d3-d8eb-4c17-8d34-d55c1c008870"
      },
      "execution_count": 38,
      "outputs": [
        {
          "output_type": "stream",
          "name": "stdout",
          "text": [
            "\n",
            "Success rate: 20/20 examples (100.0%)\n"
          ]
        }
      ]
    },
    {
      "cell_type": "code",
      "source": [
        "csv_path = \"speech_translation_results.csv\"\n",
        "df.to_csv(csv_path, index=False)\n",
        "print(f\"\\nDetailed results saved to: {csv_path}\")\n",
        "\n",
        "# Create visualizations\n",
        "plt.figure(figsize=(15, 10))\n"
      ],
      "metadata": {
        "colab": {
          "base_uri": "https://localhost:8080/",
          "height": 86
        },
        "id": "U5sqS6GjHFIG",
        "outputId": "91080fb0-5957-4f79-cd90-a43611921513"
      },
      "execution_count": 39,
      "outputs": [
        {
          "output_type": "stream",
          "name": "stdout",
          "text": [
            "\n",
            "Detailed results saved to: speech_translation_results.csv\n"
          ]
        },
        {
          "output_type": "execute_result",
          "data": {
            "text/plain": [
              "<Figure size 1500x1000 with 0 Axes>"
            ]
          },
          "metadata": {},
          "execution_count": 39
        },
        {
          "output_type": "display_data",
          "data": {
            "text/plain": [
              "<Figure size 1500x1000 with 0 Axes>"
            ]
          },
          "metadata": {}
        }
      ]
    },
    {
      "cell_type": "code",
      "source": [
        "plt.subplot(2, 2, 1)\n",
        "for metric in recognition_metrics:\n",
        "    if metric in df.columns:\n",
        "        plt.plot(range(1, len(df) + 1), df[metric], label=metric.upper())\n",
        "plt.xlabel('Example ID')\n",
        "plt.ylabel('Error Rate')\n",
        "plt.title('Speech Recognition Error Rates')\n",
        "plt.legend()\n",
        "plt.grid(True)"
      ],
      "metadata": {
        "colab": {
          "base_uri": "https://localhost:8080/",
          "height": 270
        },
        "id": "guWIS8otHIjS",
        "outputId": "043fb512-e290-42d4-f9f5-140416dd37bd"
      },
      "execution_count": 40,
      "outputs": [
        {
          "output_type": "display_data",
          "data": {
            "text/plain": [
              "<Figure size 640x480 with 1 Axes>"
            ],
            "image/png": "[encoded data removed]"
          },
          "metadata": {}
        }
      ]
    },
    {
      "cell_type": "code",
      "source": [
        "plt.subplot(2, 2, 2)\n",
        "for metric in ['bleu', 'meteor']:\n",
        "    if metric in df.columns:\n",
        "        plt.plot(range(1, len(df) + 1), df[metric], label=metric.upper())\n",
        "plt.xlabel('Example ID')\n",
        "plt.ylabel('Score (higher is better)')\n",
        "plt.title('Translation Quality Metrics')\n",
        "plt.legend()\n",
        "plt.grid(True)"
      ],
      "metadata": {
        "colab": {
          "base_uri": "https://localhost:8080/",
          "height": 270
        },
        "id": "OwXAX5gxHLdY",
        "outputId": "cb683068-1095-4ab8-c4da-f01ac6653614"
      },
      "execution_count": 41,
      "outputs": [
        {
          "output_type": "display_data",
          "data": {
            "text/plain": [
              "<Figure size 640x480 with 1 Axes>"
            ],
            "image/png": "[encoded data removed]"
          },
          "metadata": {}
        }
      ]
    },
    {
      "cell_type": "code",
      "source": [
        "if 'cer' in df.columns:\n",
        "    plt.subplot(2, 2, 3)\n",
        "    plt.plot(range(1, len(df) + 1), df['cer'], color='red')\n",
        "    plt.xlabel('Example ID')\n",
        "    plt.ylabel('Character Error Rate')\n",
        "    plt.title('Character Error Rate')\n",
        "    plt.grid(True)"
      ],
      "metadata": {
        "colab": {
          "base_uri": "https://localhost:8080/",
          "height": 270
        },
        "id": "DkxC-gDYHQnY",
        "outputId": "75fc92e5-6554-4d53-e61d-f502add29853"
      },
      "execution_count": 42,
      "outputs": [
        {
          "output_type": "display_data",
          "data": {
            "text/plain": [
              "<Figure size 640x480 with 1 Axes>"
            ],
            "image/png": "[encoded data removed]"
          },
          "metadata": {}
        }
      ]
    },
    {
      "cell_type": "code",
      "source": [
        "if 'overall_quality' in df.columns:\n",
        "    plt.subplot(2, 2, 4)\n",
        "    plt.bar(range(1, len(df) + 1), df['overall_quality'], color='green')\n",
        "    plt.axhline(y=mean_quality, color='r', linestyle='-', label=f'Average: {mean_quality:.2f}')\n",
        "    plt.xlabel('Example ID')\n",
        "    plt.ylabel('Overall Quality Score')\n",
        "    plt.title('Overall Translation Pipeline Quality')\n",
        "    plt.legend()\n",
        "    plt.grid(True)"
      ],
      "metadata": {
        "colab": {
          "base_uri": "https://localhost:8080/",
          "height": 270
        },
        "id": "jQx9Mvp6HTS-",
        "outputId": "84d226a8-570e-4a3b-f42f-84bfba82ab99"
      },
      "execution_count": 43,
      "outputs": [
        {
          "output_type": "display_data",
          "data": {
            "text/plain": [
              "<Figure size 640x480 with 1 Axes>"
            ],
            "image/png": "[encoded data removed]"
          },
          "metadata": {}
        }
      ]
    },
    {
      "cell_type": "code",
      "source": [
        "plt.tight_layout()\n",
        "plt.savefig('speech_translation_metrics.png')\n",
        "print(\"Visualizations saved to: speech_translation_metrics.png\")"
      ],
      "metadata": {
        "colab": {
          "base_uri": "https://localhost:8080/",
          "height": 52
        },
        "id": "1qX67tFBHWrK",
        "outputId": "68c6996a-2969-4026-f54b-219976e7e610"
      },
      "execution_count": 44,
      "outputs": [
        {
          "output_type": "stream",
          "name": "stdout",
          "text": [
            "Visualizations saved to: speech_translation_metrics.png\n"
          ]
        },
        {
          "output_type": "display_data",
          "data": {
            "text/plain": [
              "<Figure size 640x480 with 0 Axes>"
            ]
          },
          "metadata": {}
        }
      ]
    },
    {
      "cell_type": "code",
      "source": [
        "print(\"\\n===== DETAILED EXAMPLE BREAKDOWN =====\\n\")\n",
        "for i, row in df.iterrows():\n",
        "    example_id = row['example_id']\n",
        "    if i < 3 or example_id == df['example_id'].max():  # Show first 3 and last examples\n",
        "        print(f\"Example {example_id}:\")\n",
        "        print(f\"Original: \\\"{row['original_english']}\\\"\")\n",
        "        if 'recognized_english' in row and not pd.isna(row['recognized_english']) and \"RECOGNITION_ERROR\" not in str(row['recognized_english']):\n",
        "            print(f\"Recognized: \\\"{row['recognized_english']}\\\"\")\n",
        "            if 'wer' in row:\n",
        "                print(f\"WER: {row['wer']:.4f}\")\n",
        "            if 'ground_truth_french' in row and 'translated_french' in row:\n",
        "                print(f\"Ground truth: \\\"{row['ground_truth_french']}\\\"\")\n",
        "                print(f\"Translated: \\\"{row['translated_french']}\\\"\")\n",
        "                if 'bleu' in row:\n",
        "                    print(f\"BLEU: {row['bleu']:.4f}\")\n",
        "                if 'overall_quality' in row:\n",
        "                    print(f\"Overall quality: {row['overall_quality']:.4f}\")\n",
        "        else:\n",
        "            print(\"Recognition failed for this example\")\n",
        "        print()\n"
      ],
      "metadata": {
        "colab": {
          "base_uri": "https://localhost:8080/"
        },
        "id": "TvqYBwVnHXVo",
        "outputId": "27d1a9cb-f85d-4112-a3fa-db3c31353e6f"
      },
      "execution_count": 45,
      "outputs": [
        {
          "output_type": "stream",
          "name": "stdout",
          "text": [
            "\n",
            "===== DETAILED EXAMPLE BREAKDOWN =====\n",
            "\n",
            "Example 1:\n",
            "Original: \"Good morning! How are you? Did you eat food? Hope you will have a nice day today.\"\n",
            "Recognized: \"good morning how are you did you eat food hope you will have a nice day today\"\n",
            "WER: 0.4706\n",
            "Ground truth: \"Bonjour! Comment allez-vous? Avez-vous mangé? J'espère que vous aurez une belle journée aujourd'hui.\"\n",
            "Translated: \"Bonjour comment êtes-vous avez-vous mangé de la nourriture en espérant que vous aurez une belle journée aujourd'hui\"\n",
            "BLEU: 0.2818\n",
            "Overall quality: 0.1492\n",
            "\n",
            "Example 2:\n",
            "Original: \"The weather is beautiful outside. I think I'll go for a walk in the park.\"\n",
            "Recognized: \"the weather is beautiful outside I think I'll go for a walk in the park\"\n",
            "WER: 0.2000\n",
            "Ground truth: \"Le temps est beau dehors. Je pense que je vais aller faire une promenade dans le parc.\"\n",
            "Translated: \"le temps est beau dehors je pense que je vais aller faire une promenade dans le parc\"\n",
            "BLEU: 0.6302\n",
            "Overall quality: 0.5042\n",
            "\n",
            "Example 3:\n",
            "Original: \"Could you please tell me how to get to the nearest train station?\"\n",
            "Recognized: \"could you please tell me how to get to the nearest train station\"\n",
            "WER: 0.1538\n",
            "Ground truth: \"Pouvez-vous me dire comment vous rendre à la gare la plus proche ?\"\n",
            "Translated: \"Pouvez-vous me dire comment arriver à la gare la plus proche ?\"\n",
            "BLEU: 0.6761\n",
            "Overall quality: 0.5721\n",
            "\n",
            "Example 20:\n",
            "Original: \"We should plant more trees to help combat climate change.\"\n",
            "Recognized: \"climate change\"\n",
            "WER: 0.9000\n",
            "Ground truth: \"Nous devrions planter plus d'arbres pour aider à lutter contre le changement climatique.\"\n",
            "Translated: \"changements climatiques\"\n",
            "BLEU: 0.0000\n",
            "Overall quality: 0.0000\n",
            "\n"
          ]
        }
      ]
    },
    {
      "cell_type": "code",
      "source": [],
      "metadata": {
        "id": "2Cb_Vesjoy43"
      },
      "execution_count": null,
      "outputs": []
    }
  ]
}